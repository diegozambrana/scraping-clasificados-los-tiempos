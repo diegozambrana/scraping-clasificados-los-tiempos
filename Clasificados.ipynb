{
 "cells": [
  {
   "cell_type": "markdown",
   "id": "46a4b1b5-647b-4550-8270-373ff9e64695",
   "metadata": {},
   "source": [
    "# scraper Clasificados de los tiempos\n",
    "\n",
    "notebook para obtenere datos de la página de los clasificados de los tiempos \n",
    "\n",
    "LINK: https://clasificados.lostiempos.com/inmuebles "
   ]
  },
  {
   "cell_type": "code",
   "execution_count": 1,
   "id": "ca47b42c-da86-4688-acea-7981d2f64b00",
   "metadata": {},
   "outputs": [],
   "source": [
    "import pandas as pd\n",
    "import numpy as np\n",
    "import requests\n",
    "import re\n",
    "import math\n",
    "from datetime import datetime\n",
    "from pyquery import PyQuery as pq\n"
   ]
  },
  {
   "cell_type": "code",
   "execution_count": 2,
   "id": "7df46d2a-e4f6-46be-8a3f-da9d5129a808",
   "metadata": {},
   "outputs": [],
   "source": [
    "BASE_URL = \"https://clasificados.lostiempos.com\"\n",
    "URL = f\"{BASE_URL}/inmuebles?sort_by=created&sort_order=DESC&page=\"\n",
    "\n",
    "HEADERS = {'User-Agent': \"Mozilla/5.0 (Macintosh; Intel Mac OS X 10_11_5) \"\n",
    "                         \"AppleWebKit/537.36 (KHTML, like Gecko) Chrome/50\"\n",
    "                         \".0.2661.102 Safari/537.36\"}\n",
    "posts = []\n",
    "\n",
    "MONTHS_SPANISH = [\"Enero\", \"Febrero\", \"Marzo\", \"Abril\", \"Mayo\", \"Junio\", \"Julio\", \"Agosto\", \"Septiembre\", \"Octubre\", \"Noviembre\", \"Diciembre\"]\n",
    "\n",
    "response = requests.get(f\"{URL}{0}\", headers=HEADERS)\n",
    "doc = pq(response.content)"
   ]
  },
  {
   "cell_type": "code",
   "execution_count": 4,
   "id": "69fa2a85-cb42-402b-a2d0-a69b0cc0d681",
   "metadata": {},
   "outputs": [],
   "source": [
    "def append_elements(doc, posts):\n",
    "    l = doc.find('.views-row')\n",
    "    for i, element in enumerate(l):\n",
    "        data = get_data(l.eq(i))\n",
    "        posts.append(data)"
   ]
  },
  {
   "cell_type": "code",
   "execution_count": 5,
   "id": "12f66d10-350c-490c-a468-af142d252068",
   "metadata": {},
   "outputs": [],
   "source": [
    "# clean the text\n",
    "def clean_text(s):\n",
    "    return s.replace('\\n', '').strip()\n",
    "\n",
    "# get data from text like 'Publicado: 23 Marzo 2023'\n",
    "def get_date(s):\n",
    "    original_date = s.replace('Publicado: ', '')\n",
    "    dt = original_date.split(' ')\n",
    "    return f\"{dt[2]}-{str(MONTHS_SPANISH.index(dt[1])).zfill(2)}-{dt[0].zfill(2)}\"\n",
    "\n",
    "# Get celphone and phone number \n",
    "def get_phones(s):\n",
    "    return re.findall(r\"([\\d]{8}|[\\d]{7})\", s)\n",
    "\n",
    "def get_price(s):\n",
    "    # TODO: hacer el calculo de precios.\n",
    "    pass"
   ]
  },
  {
   "cell_type": "code",
   "execution_count": 6,
   "id": "9e537349-69ba-45ba-8fd1-ac2b3b40dc9d",
   "metadata": {},
   "outputs": [],
   "source": [
    "def get_data(element):\n",
    "    title = element.children('.title')[0].text_content()\n",
    "    date = element.children('.publish-date')[0].text_content()\n",
    "    description = element.children('.body')[0].text_content()\n",
    "    price = element.children('.ads-price')[0].text_content()\n",
    "    keys = element.children('.description')[0].text_content()\n",
    "    path = element.children('.buttons a')[0].attrib['href']\n",
    "\n",
    "    return {\n",
    "        'title': clean_text(title),\n",
    "        'date': get_date(clean_text(date)),\n",
    "        'description': clean_text(description),\n",
    "        'price': clean_text(price),\n",
    "        'keys': clean_text(keys),\n",
    "        'path': clean_text(path),\n",
    "    }\n",
    "\n",
    "# get_data(doc.find('.views-row').eq(0))"
   ]
  },
  {
   "cell_type": "code",
   "execution_count": 7,
   "id": "91963ca3-d30a-44d6-8d13-b4472491c8ed",
   "metadata": {},
   "outputs": [
    {
     "data": {
      "text/plain": [
       "'/anuncio/inmuebles/galpon-en-venta-400/2019423'"
      ]
     },
     "execution_count": 7,
     "metadata": {},
     "output_type": "execute_result"
    }
   ],
   "source": [
    "doc.find('.views-row').eq(0).children('.buttons a')[0].attrib['href']"
   ]
  },
  {
   "cell_type": "code",
   "execution_count": 8,
   "id": "20c1f422-3bc2-4452-aad3-bd84d5c559f3",
   "metadata": {},
   "outputs": [
    {
     "name": "stdout",
     "output_type": "stream",
     "text": [
      "total: 62 - paginas: 4\n"
     ]
    }
   ],
   "source": [
    "number_elements = int(re.findall(r'\\d+', doc.find('.resume-search')[0].text_content())[0])\n",
    "NUMBER_OF_PAGES = math.ceil(number_elements / 20)\n",
    "print(\"total:\", number_elements, \"- paginas:\", NUMBER_OF_PAGES)\n",
    "\n",
    "append_elements(doc, posts)"
   ]
  },
  {
   "cell_type": "code",
   "execution_count": 9,
   "id": "7fa1aea0-31c7-4630-8b5a-c4ac60227fe8",
   "metadata": {},
   "outputs": [
    {
     "name": "stdout",
     "output_type": "stream",
     "text": [
      "get data from: https://clasificados.lostiempos.com/inmuebles?sort_by=created&sort_order=DESC&page=1\n",
      "get data from: https://clasificados.lostiempos.com/inmuebles?sort_by=created&sort_order=DESC&page=2\n",
      "get data from: https://clasificados.lostiempos.com/inmuebles?sort_by=created&sort_order=DESC&page=3\n",
      "total de publicaciones: 62\n"
     ]
    }
   ],
   "source": [
    "for n in range(1, NUMBER_OF_PAGES):\n",
    "    print(\"get data from:\", f\"{URL}{n}\")\n",
    "    response = requests.get(f\"{URL}{n}\", headers=HEADERS)\n",
    "    doc = pq(response.content)\n",
    "    append_elements(doc, posts)\n",
    "\n",
    "print(\"total de publicaciones:\", len(posts))"
   ]
  },
  {
   "cell_type": "code",
   "execution_count": 10,
   "id": "39eae503-c4de-40ec-b901-480e380fb009",
   "metadata": {},
   "outputs": [
    {
     "data": {
      "text/html": [
       "<div>\n",
       "<style scoped>\n",
       "    .dataframe tbody tr th:only-of-type {\n",
       "        vertical-align: middle;\n",
       "    }\n",
       "\n",
       "    .dataframe tbody tr th {\n",
       "        vertical-align: top;\n",
       "    }\n",
       "\n",
       "    .dataframe thead th {\n",
       "        text-align: right;\n",
       "    }\n",
       "</style>\n",
       "<table border=\"1\" class=\"dataframe\">\n",
       "  <thead>\n",
       "    <tr style=\"text-align: right;\">\n",
       "      <th></th>\n",
       "      <th>title</th>\n",
       "      <th>date</th>\n",
       "      <th>description</th>\n",
       "      <th>price</th>\n",
       "      <th>keys</th>\n",
       "      <th>path</th>\n",
       "    </tr>\n",
       "  </thead>\n",
       "  <tbody>\n",
       "    <tr>\n",
       "      <th>0</th>\n",
       "      <td>Galpon En Venta 400</td>\n",
       "      <td>2023-06-20</td>\n",
       "      <td>GALPON  En venta, 400 m2, zona Pacata, inmedia...</td>\n",
       "      <td></td>\n",
       "      <td>Cochabamba -  Venta -  Depósitos Galpones</td>\n",
       "      <td>/anuncio/inmuebles/galpon-en-venta-400/2019423</td>\n",
       "    </tr>\n",
       "    <tr>\n",
       "      <th>1</th>\n",
       "      <td>39 800 $us Tienda</td>\n",
       "      <td>2023-06-19</td>\n",
       "      <td>39.800 $US tienda a estrenar, iglesia Cala Cal...</td>\n",
       "      <td>$us 39 800</td>\n",
       "      <td>Cochabamba -  Venta -  Local Comercial</td>\n",
       "      <td>/anuncio/inmuebles/39-800-us-tienda/2015299</td>\n",
       "    </tr>\n",
       "    <tr>\n",
       "      <th>2</th>\n",
       "      <td>Casa En Venta Superficie</td>\n",
       "      <td>2023-06-19</td>\n",
       "      <td>CASA En venta superficie 325 m2 ubicado en Av....</td>\n",
       "      <td></td>\n",
       "      <td>Cochabamba -  Venta -  Casa / Chalet</td>\n",
       "      <td>/anuncio/inmuebles/casa-en-venta-superficie/20...</td>\n",
       "    </tr>\n",
       "    <tr>\n",
       "      <th>3</th>\n",
       "      <td>Casa 2 Pisos Garaje</td>\n",
       "      <td>2023-06-19</td>\n",
       "      <td>CASA 2 pisos, garaje, 3 dormitorios, cocina, b...</td>\n",
       "      <td></td>\n",
       "      <td>Cochabamba -  Venta -  Casa / Chalet</td>\n",
       "      <td>/anuncio/inmuebles/casa-2-pisos-garaje/2017770</td>\n",
       "    </tr>\n",
       "    <tr>\n",
       "      <th>4</th>\n",
       "      <td>Vendo Departamento América Casi</td>\n",
       "      <td>2023-06-19</td>\n",
       "      <td>VENDO Departamento: América casi Libertador, 3...</td>\n",
       "      <td></td>\n",
       "      <td>Cochabamba -  Venta -  Departamento</td>\n",
       "      <td>/anuncio/inmuebles/vendo-departamento-america-...</td>\n",
       "    </tr>\n",
       "    <tr>\n",
       "      <th>...</th>\n",
       "      <td>...</td>\n",
       "      <td>...</td>\n",
       "      <td>...</td>\n",
       "      <td>...</td>\n",
       "      <td>...</td>\n",
       "      <td>...</td>\n",
       "    </tr>\n",
       "    <tr>\n",
       "      <th>57</th>\n",
       "      <td>Departamento A Estrenar En</td>\n",
       "      <td>2023-06-17</td>\n",
       "      <td>DEPARTAMENTO a estrenar, en alquiler, 82 m2, c...</td>\n",
       "      <td></td>\n",
       "      <td>Cochabamba -  Alquiler -  Departamento</td>\n",
       "      <td>/anuncio/inmuebles/departamento-estrenar-en/20...</td>\n",
       "    </tr>\n",
       "    <tr>\n",
       "      <th>58</th>\n",
       "      <td>Departamento En Alquiler Zona</td>\n",
       "      <td>2023-06-17</td>\n",
       "      <td>DEPARTAMENTO en alquiler, zona parque Kanata, ...</td>\n",
       "      <td></td>\n",
       "      <td>Cochabamba -  Alquiler -  Departamento</td>\n",
       "      <td>/anuncio/inmuebles/departamento-en-alquiler-zo...</td>\n",
       "    </tr>\n",
       "    <tr>\n",
       "      <th>59</th>\n",
       "      <td>Alquiler Sobre Av Aniceto</td>\n",
       "      <td>2023-06-17</td>\n",
       "      <td>ALQUILER Sobre Av. Aniceto Arce, departamento ...</td>\n",
       "      <td></td>\n",
       "      <td>Cochabamba -  Alquiler -  Departamento</td>\n",
       "      <td>/anuncio/inmuebles/alquiler-sobre-av-aniceto/2...</td>\n",
       "    </tr>\n",
       "    <tr>\n",
       "      <th>60</th>\n",
       "      <td>2 Departamentos En Anticrético</td>\n",
       "      <td>2023-06-17</td>\n",
       "      <td>2 DEPARTAMENTOS en anticrético, uno de 2 dormi...</td>\n",
       "      <td></td>\n",
       "      <td>Cochabamba -  Anticrético -  Departamento</td>\n",
       "      <td>/anuncio/inmuebles/2-departamentos-en-anticret...</td>\n",
       "    </tr>\n",
       "    <tr>\n",
       "      <th>61</th>\n",
       "      <td>Departamento En Anticrético Con</td>\n",
       "      <td>2023-06-17</td>\n",
       "      <td>DEPARTAMENTO en anticrético, con opción venta,...</td>\n",
       "      <td></td>\n",
       "      <td>Cochabamba -  Anticrético -  Departamento</td>\n",
       "      <td>/anuncio/inmuebles/departamento-en-anticretico...</td>\n",
       "    </tr>\n",
       "  </tbody>\n",
       "</table>\n",
       "<p>62 rows × 6 columns</p>\n",
       "</div>"
      ],
      "text/plain": [
       "                              title        date  \\\n",
       "0               Galpon En Venta 400  2023-06-20   \n",
       "1                 39 800 $us Tienda  2023-06-19   \n",
       "2          Casa En Venta Superficie  2023-06-19   \n",
       "3               Casa 2 Pisos Garaje  2023-06-19   \n",
       "4   Vendo Departamento América Casi  2023-06-19   \n",
       "..                              ...         ...   \n",
       "57       Departamento A Estrenar En  2023-06-17   \n",
       "58    Departamento En Alquiler Zona  2023-06-17   \n",
       "59        Alquiler Sobre Av Aniceto  2023-06-17   \n",
       "60   2 Departamentos En Anticrético  2023-06-17   \n",
       "61  Departamento En Anticrético Con  2023-06-17   \n",
       "\n",
       "                                          description       price  \\\n",
       "0   GALPON  En venta, 400 m2, zona Pacata, inmedia...               \n",
       "1   39.800 $US tienda a estrenar, iglesia Cala Cal...  $us 39 800   \n",
       "2   CASA En venta superficie 325 m2 ubicado en Av....               \n",
       "3   CASA 2 pisos, garaje, 3 dormitorios, cocina, b...               \n",
       "4   VENDO Departamento: América casi Libertador, 3...               \n",
       "..                                                ...         ...   \n",
       "57  DEPARTAMENTO a estrenar, en alquiler, 82 m2, c...               \n",
       "58  DEPARTAMENTO en alquiler, zona parque Kanata, ...               \n",
       "59  ALQUILER Sobre Av. Aniceto Arce, departamento ...               \n",
       "60  2 DEPARTAMENTOS en anticrético, uno de 2 dormi...               \n",
       "61  DEPARTAMENTO en anticrético, con opción venta,...               \n",
       "\n",
       "                                         keys  \\\n",
       "0   Cochabamba -  Venta -  Depósitos Galpones   \n",
       "1      Cochabamba -  Venta -  Local Comercial   \n",
       "2        Cochabamba -  Venta -  Casa / Chalet   \n",
       "3        Cochabamba -  Venta -  Casa / Chalet   \n",
       "4         Cochabamba -  Venta -  Departamento   \n",
       "..                                        ...   \n",
       "57     Cochabamba -  Alquiler -  Departamento   \n",
       "58     Cochabamba -  Alquiler -  Departamento   \n",
       "59     Cochabamba -  Alquiler -  Departamento   \n",
       "60  Cochabamba -  Anticrético -  Departamento   \n",
       "61  Cochabamba -  Anticrético -  Departamento   \n",
       "\n",
       "                                                 path  \n",
       "0      /anuncio/inmuebles/galpon-en-venta-400/2019423  \n",
       "1         /anuncio/inmuebles/39-800-us-tienda/2015299  \n",
       "2   /anuncio/inmuebles/casa-en-venta-superficie/20...  \n",
       "3      /anuncio/inmuebles/casa-2-pisos-garaje/2017770  \n",
       "4   /anuncio/inmuebles/vendo-departamento-america-...  \n",
       "..                                                ...  \n",
       "57  /anuncio/inmuebles/departamento-estrenar-en/20...  \n",
       "58  /anuncio/inmuebles/departamento-en-alquiler-zo...  \n",
       "59  /anuncio/inmuebles/alquiler-sobre-av-aniceto/2...  \n",
       "60  /anuncio/inmuebles/2-departamentos-en-anticret...  \n",
       "61  /anuncio/inmuebles/departamento-en-anticretico...  \n",
       "\n",
       "[62 rows x 6 columns]"
      ]
     },
     "execution_count": 10,
     "metadata": {},
     "output_type": "execute_result"
    }
   ],
   "source": [
    "df = pd.DataFrame(posts)\n",
    "df"
   ]
  },
  {
   "cell_type": "code",
   "execution_count": 11,
   "id": "91e1ad87-71d9-4bef-b4c5-f58b8e777361",
   "metadata": {},
   "outputs": [],
   "source": [
    "# Save dataframe as .csv file \n",
    "df.to_csv(f'./csv/los_tiempos_clasificados_{datetime.now().isoformat()[:10]}.csv', sep=';')"
   ]
  },
  {
   "cell_type": "code",
   "execution_count": null,
   "id": "6464aeb9-06b8-410c-b5e6-611fa613f1ff",
   "metadata": {},
   "outputs": [],
   "source": []
  }
 ],
 "metadata": {
  "kernelspec": {
   "display_name": "Python 3 (ipykernel)",
   "language": "python",
   "name": "python3"
  },
  "language_info": {
   "codemirror_mode": {
    "name": "ipython",
    "version": 3
   },
   "file_extension": ".py",
   "mimetype": "text/x-python",
   "name": "python",
   "nbconvert_exporter": "python",
   "pygments_lexer": "ipython3",
   "version": "3.8.15"
  }
 },
 "nbformat": 4,
 "nbformat_minor": 5
}
