{
 "cells": [
  {
   "cell_type": "markdown",
   "id": "46a4b1b5-647b-4550-8270-373ff9e64695",
   "metadata": {},
   "source": [
    "# scraper Clasificados de los tiempos\n",
    "\n",
    "notebook para obtenere datos de la página de los clasificados de los tiempos \n",
    "\n",
    "LINK: https://clasificados.lostiempos.com/inmuebles "
   ]
  },
  {
   "cell_type": "code",
   "execution_count": 1,
   "id": "ca47b42c-da86-4688-acea-7981d2f64b00",
   "metadata": {},
   "outputs": [],
   "source": [
    "import pandas as pd\n",
    "import numpy as np\n",
    "import requests\n",
    "import re\n",
    "import math\n",
    "from datetime import datetime\n",
    "from pyquery import PyQuery as pq"
   ]
  },
  {
   "cell_type": "code",
   "execution_count": 2,
   "id": "7df46d2a-e4f6-46be-8a3f-da9d5129a808",
   "metadata": {},
   "outputs": [],
   "source": [
    "BASE_URL = \"https://clasificados.lostiempos.com\"\n",
    "URL = f\"{BASE_URL}/inmuebles?sort_by=created&sort_order=DESC&page=\"\n",
    "\n",
    "HEADERS = {'User-Agent': \"Mozilla/5.0 (Macintosh; Intel Mac OS X 10_11_5) \"\n",
    "                         \"AppleWebKit/537.36 (KHTML, like Gecko) Chrome/50\"\n",
    "                         \".0.2661.102 Safari/537.36\"}\n",
    "posts = []"
   ]
  },
  {
   "cell_type": "code",
   "execution_count": 3,
   "id": "715e87f7-f763-4927-a2e4-6d36ccc72821",
   "metadata": {},
   "outputs": [],
   "source": [
    "response = requests.get(f\"{URL}{0}\", headers=HEADERS)\n",
    "doc = pq(response.content)"
   ]
  },
  {
   "cell_type": "code",
   "execution_count": 4,
   "id": "69fa2a85-cb42-402b-a2d0-a69b0cc0d681",
   "metadata": {},
   "outputs": [],
   "source": [
    "def append_elements(doc, posts):\n",
    "    l = doc.find('.views-row')\n",
    "    for i, element in enumerate(l):\n",
    "        data = get_data(l.eq(i))\n",
    "        posts.append(data)"
   ]
  },
  {
   "cell_type": "code",
   "execution_count": 5,
   "id": "12f66d10-350c-490c-a468-af142d252068",
   "metadata": {},
   "outputs": [],
   "source": [
    "MONTHS_SPANISH = [\"Enero\", \"Febrero\", \"Marzo\", \"Abril\", \"Mayo\", \"Junio\", \"Julio\", \"Agosto\", \"Septiembre\", \"Octubre\", \"Noviembre\", \"Diciembre\"]\n",
    "\n",
    "# clean the text\n",
    "def clean_text(s):\n",
    "    return s.replace('\\n', '').strip()\n",
    "\n",
    "# get data from text like 'Publicado: 23 Marzo 2023'\n",
    "def get_date(s):\n",
    "    original_date = s.replace('Publicado: ', '')\n",
    "    dt = original_date.split(' ')\n",
    "    return f\"{dt[2]}-{str(MONTHS_SPANISH.index(dt[1])).zfill(2)}-{dt[0].zfill(2)}\"\n",
    "\n",
    "# Get celphone and phone number \n",
    "def get_phones(s):\n",
    "    return re.findall(r\"([\\d]{8}|[\\d]{7})\", s)\n",
    "\n",
    "def get_price(s):\n",
    "    # TODO: hacer el calculo de precios.\n",
    "    pass"
   ]
  },
  {
   "cell_type": "code",
   "execution_count": 6,
   "id": "9e537349-69ba-45ba-8fd1-ac2b3b40dc9d",
   "metadata": {},
   "outputs": [],
   "source": [
    "def get_data(element):\n",
    "    title = element.children('.title')[0].text_content()\n",
    "    date = element.children('.publish-date')[0].text_content()\n",
    "    description = element.children('.body')[0].text_content()\n",
    "    price = element.children('.ads-price')[0].text_content()\n",
    "    keys = element.children('.description')[0].text_content()\n",
    "    path = element.children('.buttons a')[0].attrib['href']\n",
    "\n",
    "    return {\n",
    "        'title': clean_text(title),\n",
    "        'date': get_date(clean_text(date)),\n",
    "        'description': clean_text(description),\n",
    "        'price': clean_text(price),\n",
    "        'keys': clean_text(keys),\n",
    "        'path': clean_text(path),\n",
    "    }\n",
    "\n",
    "# get_data(doc.find('.views-row').eq(0))"
   ]
  },
  {
   "cell_type": "code",
   "execution_count": 7,
   "id": "91963ca3-d30a-44d6-8d13-b4472491c8ed",
   "metadata": {},
   "outputs": [
    {
     "data": {
      "text/plain": [
       "'/anuncio/inmuebles/departamento-en-venta-110/1983803'"
      ]
     },
     "execution_count": 7,
     "metadata": {},
     "output_type": "execute_result"
    }
   ],
   "source": [
    "doc.find('.views-row').eq(0).children('.buttons a')[0].attrib['href']"
   ]
  },
  {
   "cell_type": "code",
   "execution_count": 8,
   "id": "20c1f422-3bc2-4452-aad3-bd84d5c559f3",
   "metadata": {},
   "outputs": [
    {
     "name": "stdout",
     "output_type": "stream",
     "text": [
      "total: 69 - paginas: 4\n"
     ]
    }
   ],
   "source": [
    "number_elements = int(re.findall(r'\\d+', doc.find('.resume-search')[0].text_content())[0])\n",
    "NUMBER_OF_PAGES = math.ceil(number_elements / 20)\n",
    "print(\"total:\", number_elements, \"- paginas:\", NUMBER_OF_PAGES)\n",
    "\n",
    "append_elements(doc, posts)"
   ]
  },
  {
   "cell_type": "code",
   "execution_count": 9,
   "id": "0285a981-83de-4388-a338-56b3478665d6",
   "metadata": {},
   "outputs": [],
   "source": [
    "# TEST if anything is wrong with errors\n",
    "# posts_test = []\n",
    "# append_elements(doc, posts_test)\n",
    "# posts_test\n",
    "# doc.find('.views-row').eq(0).children('.title')[0].text_content()"
   ]
  },
  {
   "cell_type": "code",
   "execution_count": 10,
   "id": "7fa1aea0-31c7-4630-8b5a-c4ac60227fe8",
   "metadata": {},
   "outputs": [
    {
     "name": "stdout",
     "output_type": "stream",
     "text": [
      "get data from: https://clasificados.lostiempos.com/inmuebles?sort_by=created&sort_order=DESC&page=1\n",
      "get data from: https://clasificados.lostiempos.com/inmuebles?sort_by=created&sort_order=DESC&page=2\n",
      "get data from: https://clasificados.lostiempos.com/inmuebles?sort_by=created&sort_order=DESC&page=3\n",
      "total de publicaciones: 69\n"
     ]
    }
   ],
   "source": [
    "for n in range(1, NUMBER_OF_PAGES):\n",
    "    print(\"get data from:\", f\"{URL}{n}\")\n",
    "    response = requests.get(f\"{URL}{n}\", headers=HEADERS)\n",
    "    doc = pq(response.content)\n",
    "    append_elements(doc, posts)\n",
    "\n",
    "print(\"total de publicaciones:\", len(posts))"
   ]
  },
  {
   "cell_type": "code",
   "execution_count": 11,
   "id": "39eae503-c4de-40ec-b901-480e380fb009",
   "metadata": {},
   "outputs": [
    {
     "data": {
      "text/html": [
       "<div>\n",
       "<style scoped>\n",
       "    .dataframe tbody tr th:only-of-type {\n",
       "        vertical-align: middle;\n",
       "    }\n",
       "\n",
       "    .dataframe tbody tr th {\n",
       "        vertical-align: top;\n",
       "    }\n",
       "\n",
       "    .dataframe thead th {\n",
       "        text-align: right;\n",
       "    }\n",
       "</style>\n",
       "<table border=\"1\" class=\"dataframe\">\n",
       "  <thead>\n",
       "    <tr style=\"text-align: right;\">\n",
       "      <th></th>\n",
       "      <th>title</th>\n",
       "      <th>date</th>\n",
       "      <th>description</th>\n",
       "      <th>price</th>\n",
       "      <th>keys</th>\n",
       "      <th>path</th>\n",
       "    </tr>\n",
       "  </thead>\n",
       "  <tbody>\n",
       "    <tr>\n",
       "      <th>0</th>\n",
       "      <td>Departamento En Venta 110</td>\n",
       "      <td>2023-02-31</td>\n",
       "      <td>DEPARTAMENTO  En venta 110 m2, 3 dormitorios. ...</td>\n",
       "      <td></td>\n",
       "      <td>Cochabamba -  Venta -  Departamento</td>\n",
       "      <td>/anuncio/inmuebles/departamento-en-venta-110/1...</td>\n",
       "    </tr>\n",
       "    <tr>\n",
       "      <th>1</th>\n",
       "      <td>Lotes Sipe Sipe Lote</td>\n",
       "      <td>2023-02-31</td>\n",
       "      <td>LOTES  Sipe Sipe, lote 1 4880 M2, lote 2 1811 ...</td>\n",
       "      <td></td>\n",
       "      <td>Cochabamba -  Venta -  Lote / Terreno</td>\n",
       "      <td>/anuncio/inmuebles/lotes-sipe-sipe-lote/1983805</td>\n",
       "    </tr>\n",
       "    <tr>\n",
       "      <th>2</th>\n",
       "      <td>Doy Hermoso Dpto En</td>\n",
       "      <td>2023-02-31</td>\n",
       "      <td>Doy hermoso Dpto. en anticrético estilo Americ...</td>\n",
       "      <td>$us 27 500</td>\n",
       "      <td>Cochabamba -  Anticrético -  Departamento</td>\n",
       "      <td>/anuncio/inmuebles/doy-hermoso-dpto-en/1984002</td>\n",
       "    </tr>\n",
       "    <tr>\n",
       "      <th>3</th>\n",
       "      <td>Oficina Céntrica En Alquiler</td>\n",
       "      <td>2023-02-30</td>\n",
       "      <td>OFICINA céntrica en alquiler. 79380485.</td>\n",
       "      <td></td>\n",
       "      <td>Cochabamba -  Alquiler -  Oficina</td>\n",
       "      <td>/anuncio/inmuebles/oficina-centrica-en-alquile...</td>\n",
       "    </tr>\n",
       "    <tr>\n",
       "      <th>4</th>\n",
       "      <td>Departamento Céntrico En Alquiler</td>\n",
       "      <td>2023-02-30</td>\n",
       "      <td>DEPARTAMENTO céntrico, en alquiler. 70774733.</td>\n",
       "      <td></td>\n",
       "      <td>Cochabamba -  Alquiler -  Departamento</td>\n",
       "      <td>/anuncio/inmuebles/departamento-centrico-en-al...</td>\n",
       "    </tr>\n",
       "    <tr>\n",
       "      <th>...</th>\n",
       "      <td>...</td>\n",
       "      <td>...</td>\n",
       "      <td>...</td>\n",
       "      <td>...</td>\n",
       "      <td>...</td>\n",
       "      <td>...</td>\n",
       "    </tr>\n",
       "    <tr>\n",
       "      <th>64</th>\n",
       "      <td>1 800 Bs Mercado</td>\n",
       "      <td>2023-02-28</td>\n",
       "      <td>1.800 BS. Mercado 10 de Febrero Simón López de...</td>\n",
       "      <td></td>\n",
       "      <td>Cochabamba -  Alquiler -  Departamento</td>\n",
       "      <td>/anuncio/inmuebles/1-800-bs-mercado/1983449</td>\n",
       "    </tr>\n",
       "    <tr>\n",
       "      <th>65</th>\n",
       "      <td>2 100 Bs Beijing</td>\n",
       "      <td>2023-02-28</td>\n",
       "      <td>2.100 BS. Beijing Tadeo Haenke Estrenar depart...</td>\n",
       "      <td></td>\n",
       "      <td>Cochabamba -  Alquiler -  Departamento</td>\n",
       "      <td>/anuncio/inmuebles/2-100-bs-beijing/1983450</td>\n",
       "    </tr>\n",
       "    <tr>\n",
       "      <th>66</th>\n",
       "      <td>Casa En Anticrético Chalet</td>\n",
       "      <td>2023-02-28</td>\n",
       "      <td>CASA En anticrético (chalet) 900 m2, construcc...</td>\n",
       "      <td>$us 80 000</td>\n",
       "      <td>Cochabamba -  Anticrético -  Casa / Chalet</td>\n",
       "      <td>/anuncio/inmuebles/casa-en-anticretico-chalet/...</td>\n",
       "    </tr>\n",
       "    <tr>\n",
       "      <th>67</th>\n",
       "      <td>Vendo Departamento Av Ballivián</td>\n",
       "      <td>2023-02-27</td>\n",
       "      <td>Vendo departamento Av Ballivián a pasos de pla...</td>\n",
       "      <td></td>\n",
       "      <td>Cochabamba -  Venta -  Departamento</td>\n",
       "      <td>/anuncio/inmuebles/vendo-departamento-av-balli...</td>\n",
       "    </tr>\n",
       "    <tr>\n",
       "      <th>68</th>\n",
       "      <td>25000 $ Departamento Anticrético</td>\n",
       "      <td>2023-02-27</td>\n",
       "      <td>25000 $ Departamento Anticrético 4 Dormitorios...</td>\n",
       "      <td>$us 25 000</td>\n",
       "      <td>Cochabamba -  Anticrético -  Departamento</td>\n",
       "      <td>/anuncio/inmuebles/25000-departamento-anticret...</td>\n",
       "    </tr>\n",
       "  </tbody>\n",
       "</table>\n",
       "<p>69 rows × 6 columns</p>\n",
       "</div>"
      ],
      "text/plain": [
       "                                title        date  \\\n",
       "0           Departamento En Venta 110  2023-02-31   \n",
       "1                Lotes Sipe Sipe Lote  2023-02-31   \n",
       "2                 Doy Hermoso Dpto En  2023-02-31   \n",
       "3        Oficina Céntrica En Alquiler  2023-02-30   \n",
       "4   Departamento Céntrico En Alquiler  2023-02-30   \n",
       "..                                ...         ...   \n",
       "64                   1 800 Bs Mercado  2023-02-28   \n",
       "65                   2 100 Bs Beijing  2023-02-28   \n",
       "66         Casa En Anticrético Chalet  2023-02-28   \n",
       "67    Vendo Departamento Av Ballivián  2023-02-27   \n",
       "68   25000 $ Departamento Anticrético  2023-02-27   \n",
       "\n",
       "                                          description       price  \\\n",
       "0   DEPARTAMENTO  En venta 110 m2, 3 dormitorios. ...               \n",
       "1   LOTES  Sipe Sipe, lote 1 4880 M2, lote 2 1811 ...               \n",
       "2   Doy hermoso Dpto. en anticrético estilo Americ...  $us 27 500   \n",
       "3             OFICINA céntrica en alquiler. 79380485.               \n",
       "4       DEPARTAMENTO céntrico, en alquiler. 70774733.               \n",
       "..                                                ...         ...   \n",
       "64  1.800 BS. Mercado 10 de Febrero Simón López de...               \n",
       "65  2.100 BS. Beijing Tadeo Haenke Estrenar depart...               \n",
       "66  CASA En anticrético (chalet) 900 m2, construcc...  $us 80 000   \n",
       "67  Vendo departamento Av Ballivián a pasos de pla...               \n",
       "68  25000 $ Departamento Anticrético 4 Dormitorios...  $us 25 000   \n",
       "\n",
       "                                          keys  \\\n",
       "0          Cochabamba -  Venta -  Departamento   \n",
       "1        Cochabamba -  Venta -  Lote / Terreno   \n",
       "2    Cochabamba -  Anticrético -  Departamento   \n",
       "3            Cochabamba -  Alquiler -  Oficina   \n",
       "4       Cochabamba -  Alquiler -  Departamento   \n",
       "..                                         ...   \n",
       "64      Cochabamba -  Alquiler -  Departamento   \n",
       "65      Cochabamba -  Alquiler -  Departamento   \n",
       "66  Cochabamba -  Anticrético -  Casa / Chalet   \n",
       "67         Cochabamba -  Venta -  Departamento   \n",
       "68   Cochabamba -  Anticrético -  Departamento   \n",
       "\n",
       "                                                 path  \n",
       "0   /anuncio/inmuebles/departamento-en-venta-110/1...  \n",
       "1     /anuncio/inmuebles/lotes-sipe-sipe-lote/1983805  \n",
       "2      /anuncio/inmuebles/doy-hermoso-dpto-en/1984002  \n",
       "3   /anuncio/inmuebles/oficina-centrica-en-alquile...  \n",
       "4   /anuncio/inmuebles/departamento-centrico-en-al...  \n",
       "..                                                ...  \n",
       "64        /anuncio/inmuebles/1-800-bs-mercado/1983449  \n",
       "65        /anuncio/inmuebles/2-100-bs-beijing/1983450  \n",
       "66  /anuncio/inmuebles/casa-en-anticretico-chalet/...  \n",
       "67  /anuncio/inmuebles/vendo-departamento-av-balli...  \n",
       "68  /anuncio/inmuebles/25000-departamento-anticret...  \n",
       "\n",
       "[69 rows x 6 columns]"
      ]
     },
     "execution_count": 11,
     "metadata": {},
     "output_type": "execute_result"
    }
   ],
   "source": [
    "df = pd.DataFrame(posts)\n",
    "df"
   ]
  },
  {
   "cell_type": "code",
   "execution_count": 12,
   "id": "91e1ad87-71d9-4bef-b4c5-f58b8e777361",
   "metadata": {},
   "outputs": [],
   "source": [
    "# Save dataframe as .csv file \n",
    "df.to_csv(f'./csv/los_tiempos_clasificados_{datetime.now().isoformat()[:10]}.csv', sep=';')"
   ]
  },
  {
   "cell_type": "code",
   "execution_count": 13,
   "id": "ec789aaa-c5c8-4c6e-8c6a-4c75d7b3e823",
   "metadata": {},
   "outputs": [
    {
     "ename": "SyntaxError",
     "evalue": "invalid syntax (1479320003.py, line 3)",
     "output_type": "error",
     "traceback": [
      "\u001b[0;36m  Cell \u001b[0;32mIn [13], line 3\u001b[0;36m\u001b[0m\n\u001b[0;31m    pandas==1.4.4\u001b[0m\n\u001b[0m               ^\u001b[0m\n\u001b[0;31mSyntaxError\u001b[0m\u001b[0;31m:\u001b[0m invalid syntax\n"
     ]
    }
   ],
   "source": [
    "!pip freeze\n",
    "\n",
    "pandas==1.4.4\n",
    "pyquery==2.0.0\n",
    "requests==2.28.2"
   ]
  },
  {
   "cell_type": "code",
   "execution_count": null,
   "id": "6464aeb9-06b8-410c-b5e6-611fa613f1ff",
   "metadata": {},
   "outputs": [],
   "source": []
  }
 ],
 "metadata": {
  "kernelspec": {
   "display_name": "Python 3 (ipykernel)",
   "language": "python",
   "name": "python3"
  },
  "language_info": {
   "codemirror_mode": {
    "name": "ipython",
    "version": 3
   },
   "file_extension": ".py",
   "mimetype": "text/x-python",
   "name": "python",
   "nbconvert_exporter": "python",
   "pygments_lexer": "ipython3",
   "version": "3.8.15"
  }
 },
 "nbformat": 4,
 "nbformat_minor": 5
}
