{
 "cells": [
  {
   "cell_type": "markdown",
   "id": "46a4b1b5-647b-4550-8270-373ff9e64695",
   "metadata": {},
   "source": [
    "# scraper Clasificados de los tiempos\n",
    "\n",
    "notebook para obtenere datos de la página de los clasificados de los tiempos\n",
    "con beautifulsoup\n",
    "\n",
    "LINK: https://clasificados.lostiempos.com/inmuebles "
   ]
  },
  {
   "cell_type": "code",
   "execution_count": 1,
   "id": "ca47b42c-da86-4688-acea-7981d2f64b00",
   "metadata": {},
   "outputs": [],
   "source": [
    "import pandas as pd\n",
    "import numpy as np\n",
    "import requests\n",
    "import re\n",
    "import math\n",
    "from datetime import datetime\n",
    "from pyquery import PyQuery as pq\n",
    "from bs4 import BeautifulSoup\n"
   ]
  },
  {
   "cell_type": "code",
   "execution_count": 3,
   "id": "7df46d2a-e4f6-46be-8a3f-da9d5129a808",
   "metadata": {},
   "outputs": [],
   "source": [
    "BASE_URL = \"https://clasificados.lostiempos.com\"\n",
    "URL = f\"{BASE_URL}/inmuebles?sort_by=created&sort_order=DESC&page=\"\n",
    "\n",
    "HEADERS = {'User-Agent': \"Mozilla/5.0 (Macintosh; Intel Mac OS X 10_11_5) \"\n",
    "                         \"AppleWebKit/537.36 (KHTML, like Gecko) Chrome/50\"\n",
    "                         \".0.2661.102 Safari/537.36\"}\n",
    "posts = []\n",
    "\n",
    "MONTHS_SPANISH = [\"Enero\", \"Febrero\", \"Marzo\", \"Abril\", \"Mayo\", \"Junio\", \"Julio\", \"Agosto\", \"Septiembre\", \"Octubre\", \"Noviembre\", \"Diciembre\"]\n",
    "\n",
    "response = requests.get(f\"{URL}{0}\", headers=HEADERS)\n",
    "\n",
    "soup = BeautifulSoup(response.content, 'html.parser')"
   ]
  },
  {
   "cell_type": "code",
   "execution_count": 42,
   "id": "044ba2ab-e235-4316-8103-c188d30282f6",
   "metadata": {},
   "outputs": [
    {
     "data": {
      "text/plain": [
       "'<div class=\"views-row views-row-1 24 Julio 2023\">\\n<div class=\"title\">\\n<span class=\"field-content\"><a href=\"/anuncio/inmuebles/venta-de-terreno-sup/2021653\">Venta De Terreno Sup</a></span></div>\\n<div class=\"publish-date\">Publicado: <span class=\"field-content\">24 Julio 2023</span></div>\\n<div class=\"body\">\\n<span class=\"field-content\">VENTA DE TERRENO Sup. 905.56 m2 ubicación distrito 4 Otb Noroeste zona radio urbano calle Cullavi Ref. 63872948\\n</span></div>\\n<div class=\"ads-price\">\\n<span class=\"field-content\"></span> </div>\\n<div class=\"description\">\\n<span class=\"field-content\">Cochabamba</span> -  <span class=\"field-content\">Venta</span> -  <span class=\"field-content\">Lote / Terreno</span>\\n</div>\\n<div class=\"buttons\">\\n<div class=\"contact-button\">\\n<span class=\"field-content\"><a href=\"/anuncio/inmuebles/venta-de-terreno-sup/2021653\">Contactar</a></span> </div>\\n<div class=\"sharethis-buttons\">\\n</div>\\n</div>\\n</div>'"
      ]
     },
     "execution_count": 42,
     "metadata": {},
     "output_type": "execute_result"
    }
   ],
   "source": [
    "str(soup.find_all(class_=\"views-row\")[0])"
   ]
  },
  {
   "cell_type": "code",
   "execution_count": 26,
   "id": "69fa2a85-cb42-402b-a2d0-a69b0cc0d681",
   "metadata": {},
   "outputs": [],
   "source": [
    "def append_elements(doc, posts):\n",
    "    l = soup.find_all(class_='views-row')\n",
    "    for i, element in enumerate(l):\n",
    "        data = get_data(element)\n",
    "        posts.append(data)"
   ]
  },
  {
   "cell_type": "code",
   "execution_count": 24,
   "id": "12f66d10-350c-490c-a468-af142d252068",
   "metadata": {},
   "outputs": [],
   "source": [
    "# clean the text\n",
    "def clean_text(s):\n",
    "    return s.replace('\\n', '').strip()\n",
    "\n",
    "# get data from text like 'Publicado: 23 Marzo 2023'\n",
    "def get_date(s):\n",
    "    original_date = s.replace('Publicado: ', '')\n",
    "    dt = original_date.split(' ')\n",
    "    return f\"{dt[2]}-{str(MONTHS_SPANISH.index(dt[1])).zfill(2)}-{dt[0].zfill(2)}\"\n",
    "\n",
    "# Get celphone and phone number \n",
    "def get_phones(s):\n",
    "    return re.findall(r\"([\\d]{8}|[\\d]{7})\", s)\n",
    "\n",
    "def get_price(s):\n",
    "    # TODO: hacer el calculo de precios.\n",
    "    pass"
   ]
  },
  {
   "cell_type": "code",
   "execution_count": 14,
   "id": "9e537349-69ba-45ba-8fd1-ac2b3b40dc9d",
   "metadata": {},
   "outputs": [],
   "source": [
    "def get_data(element):\n",
    "    title = element.find(class_='title').text\n",
    "    date = element.find(class_='publish-date').text\n",
    "    description = element.find(class_='body').text\n",
    "    price = element.find(class_='ads-price').text\n",
    "    keys = element.find(class_='description').text\n",
    "    path = element.find(class_='title').find('a')['href']\n",
    "\n",
    "    return {\n",
    "        'title': clean_text(title),\n",
    "        'date': get_date(clean_text(date)),\n",
    "        'description': clean_text(description),\n",
    "        'price': clean_text(price),\n",
    "        'keys': clean_text(keys),\n",
    "        'path': clean_text(path),\n",
    "        'html': str(element),\n",
    "    }\n",
    "\n",
    "# get_data(doc.find('.views-row').eq(0))"
   ]
  },
  {
   "cell_type": "code",
   "execution_count": 34,
   "id": "20c1f422-3bc2-4452-aad3-bd84d5c559f3",
   "metadata": {},
   "outputs": [
    {
     "name": "stdout",
     "output_type": "stream",
     "text": [
      "84\n"
     ]
    }
   ],
   "source": [
    "number_elements = int(re.findall(r'\\d+', soup.find(class_='resume-search').text)[0])\n",
    "NUMBER_OF_PAGES = math.ceil(number_elements / 20)\n",
    "# number_elements = int(re.findall(r'\\d+', soup.element.find(class_='.resume-search').text)[0])\n",
    "# print(soup.find(class_='resume-search').text)\n",
    "\n",
    "# print(\"total:\", number_elements, \"- paginas:\", NUMBER_OF_PAGES)\n",
    "\n",
    "# append_elements(doc, posts)\n",
    "\n",
    "# response = requests.get(f\"{URL}{1}\", headers=HEADERS)\n",
    "# doc = pq(response.content)\n",
    "# soup = BeautifulSoup(response.content, 'html.parser')\n",
    "# append_elements(soup, posts)\n",
    "print(number_elements)"
   ]
  },
  {
   "cell_type": "code",
   "execution_count": 35,
   "id": "7fa1aea0-31c7-4630-8b5a-c4ac60227fe8",
   "metadata": {},
   "outputs": [
    {
     "name": "stdout",
     "output_type": "stream",
     "text": [
      "get data from: https://clasificados.lostiempos.com/inmuebles?sort_by=created&sort_order=DESC&page=1\n",
      "get data from: https://clasificados.lostiempos.com/inmuebles?sort_by=created&sort_order=DESC&page=2\n",
      "get data from: https://clasificados.lostiempos.com/inmuebles?sort_by=created&sort_order=DESC&page=3\n",
      "get data from: https://clasificados.lostiempos.com/inmuebles?sort_by=created&sort_order=DESC&page=4\n",
      "total de publicaciones: 144\n"
     ]
    }
   ],
   "source": [
    "number_elements = int(re.findall(r'\\d+', soup.find(class_='resume-search').text)[0])\n",
    "NUMBER_OF_PAGES = math.ceil(number_elements / 20)\n",
    "\n",
    "for n in range(1, NUMBER_OF_PAGES):\n",
    "    print(\"get data from:\", f\"{URL}{n}\")\n",
    "    response = requests.get(f\"{URL}{n}\", headers=HEADERS)\n",
    "    # doc = pq(response.content)\n",
    "    soup = BeautifulSoup(response.content, 'html.parser')\n",
    "    append_elements(soup, posts)\n",
    "\n",
    "print(\"total de publicaciones:\", len(posts))"
   ]
  },
  {
   "cell_type": "code",
   "execution_count": 36,
   "id": "39eae503-c4de-40ec-b901-480e380fb009",
   "metadata": {},
   "outputs": [
    {
     "data": {
      "text/html": [
       "<div>\n",
       "<style scoped>\n",
       "    .dataframe tbody tr th:only-of-type {\n",
       "        vertical-align: middle;\n",
       "    }\n",
       "\n",
       "    .dataframe tbody tr th {\n",
       "        vertical-align: top;\n",
       "    }\n",
       "\n",
       "    .dataframe thead th {\n",
       "        text-align: right;\n",
       "    }\n",
       "</style>\n",
       "<table border=\"1\" class=\"dataframe\">\n",
       "  <thead>\n",
       "    <tr style=\"text-align: right;\">\n",
       "      <th></th>\n",
       "      <th>title</th>\n",
       "      <th>date</th>\n",
       "      <th>description</th>\n",
       "      <th>price</th>\n",
       "      <th>keys</th>\n",
       "      <th>path</th>\n",
       "    </tr>\n",
       "  </thead>\n",
       "  <tbody>\n",
       "    <tr>\n",
       "      <th>0</th>\n",
       "      <td>Vendo Casa En Argentina</td>\n",
       "      <td>2023-06-27</td>\n",
       "      <td>VENDO Casa en Argentina, ciudad de Salta, 49.0...</td>\n",
       "      <td>$us 49 000</td>\n",
       "      <td>Cochabamba -  Venta -  Casa / Chalet</td>\n",
       "      <td>/anuncio/inmuebles/vendo-casa-en-argentina/202...</td>\n",
       "    </tr>\n",
       "    <tr>\n",
       "      <th>1</th>\n",
       "      <td>Departamento En Alquiler Cuenta</td>\n",
       "      <td>2023-06-27</td>\n",
       "      <td>DEPARTAMENTO en alquiler, cuenta: 1 suite, 2 d...</td>\n",
       "      <td></td>\n",
       "      <td>Cochabamba -  Alquiler -  Departamento</td>\n",
       "      <td>/anuncio/inmuebles/departamento-en-alquiler-cu...</td>\n",
       "    </tr>\n",
       "    <tr>\n",
       "      <th>2</th>\n",
       "      <td>Lotes En Venta Sup</td>\n",
       "      <td>2023-06-27</td>\n",
       "      <td>LOTES en venta, Sup. 310 m2, San Benito, carre...</td>\n",
       "      <td></td>\n",
       "      <td>Cochabamba -  Venta -  Lote / Terreno</td>\n",
       "      <td>/anuncio/inmuebles/lotes-en-venta-sup/2022264</td>\n",
       "    </tr>\n",
       "    <tr>\n",
       "      <th>3</th>\n",
       "      <td>En Venta Casa Zona</td>\n",
       "      <td>2023-06-27</td>\n",
       "      <td>EN VENTA Casa zona campo ferial llamar: 681034...</td>\n",
       "      <td></td>\n",
       "      <td>Cochabamba -  Venta -  Casa / Chalet</td>\n",
       "      <td>/anuncio/inmuebles/en-venta-casa-zona/2022252</td>\n",
       "    </tr>\n",
       "    <tr>\n",
       "      <th>4</th>\n",
       "      <td>1 400 Bs Departamento</td>\n",
       "      <td>2023-06-27</td>\n",
       "      <td>1.400 BS. departamento, 2 dormitorios, roperos...</td>\n",
       "      <td></td>\n",
       "      <td>Cochabamba -  Alquiler -  Departamento</td>\n",
       "      <td>/anuncio/inmuebles/1-400-bs-departamento/2022267</td>\n",
       "    </tr>\n",
       "    <tr>\n",
       "      <th>...</th>\n",
       "      <td>...</td>\n",
       "      <td>...</td>\n",
       "      <td>...</td>\n",
       "      <td>...</td>\n",
       "      <td>...</td>\n",
       "      <td>...</td>\n",
       "    </tr>\n",
       "    <tr>\n",
       "      <th>139</th>\n",
       "      <td>Vendo Departamento A Estrenar</td>\n",
       "      <td>2023-06-24</td>\n",
       "      <td>VENDO departamento a estrenar, Fidel Anze, 3 d...</td>\n",
       "      <td></td>\n",
       "      <td>Cochabamba -  Venta -  Departamento</td>\n",
       "      <td>/anuncio/inmuebles/vendo-departamento-estrenar...</td>\n",
       "    </tr>\n",
       "    <tr>\n",
       "      <th>140</th>\n",
       "      <td>Venta De Terreno Sup</td>\n",
       "      <td>2023-06-24</td>\n",
       "      <td>VENTA DE TERRENO Sup. 905.56 m2 ubicación dist...</td>\n",
       "      <td></td>\n",
       "      <td>Cochabamba -  Venta -  Lote / Terreno</td>\n",
       "      <td>/anuncio/inmuebles/venta-de-terreno-sup/2021653</td>\n",
       "    </tr>\n",
       "    <tr>\n",
       "      <th>141</th>\n",
       "      <td>Alquilo Casa Independiente Con</td>\n",
       "      <td>2023-06-24</td>\n",
       "      <td>ALQUILO casa independiente, con todas las como...</td>\n",
       "      <td></td>\n",
       "      <td>Cochabamba -  Alquiler -  Casa / Chalet</td>\n",
       "      <td>/anuncio/inmuebles/alquilo-casa-independiente-...</td>\n",
       "    </tr>\n",
       "    <tr>\n",
       "      <th>142</th>\n",
       "      <td>Alquilo Departamento 3 Dormitorios</td>\n",
       "      <td>2023-06-24</td>\n",
       "      <td>ALQUILO departamento 3 dormitorios, calle Bapt...</td>\n",
       "      <td></td>\n",
       "      <td>Cochabamba -  Alquiler -  Departamento</td>\n",
       "      <td>/anuncio/inmuebles/alquilo-departamento-3-dorm...</td>\n",
       "    </tr>\n",
       "    <tr>\n",
       "      <th>143</th>\n",
       "      <td>Alquilo Habitación Amplia 5x5</td>\n",
       "      <td>2023-06-24</td>\n",
       "      <td>ALQUILO habitación, amplia, 5x5, cocina, con g...</td>\n",
       "      <td></td>\n",
       "      <td>Cochabamba -  Alquiler -  Habitación</td>\n",
       "      <td>/anuncio/inmuebles/alquilo-habitacion-amplia-5...</td>\n",
       "    </tr>\n",
       "  </tbody>\n",
       "</table>\n",
       "<p>144 rows × 6 columns</p>\n",
       "</div>"
      ],
      "text/plain": [
       "                                  title        date  \\\n",
       "0               Vendo Casa En Argentina  2023-06-27   \n",
       "1       Departamento En Alquiler Cuenta  2023-06-27   \n",
       "2                    Lotes En Venta Sup  2023-06-27   \n",
       "3                    En Venta Casa Zona  2023-06-27   \n",
       "4                 1 400 Bs Departamento  2023-06-27   \n",
       "..                                  ...         ...   \n",
       "139       Vendo Departamento A Estrenar  2023-06-24   \n",
       "140                Venta De Terreno Sup  2023-06-24   \n",
       "141      Alquilo Casa Independiente Con  2023-06-24   \n",
       "142  Alquilo Departamento 3 Dormitorios  2023-06-24   \n",
       "143       Alquilo Habitación Amplia 5x5  2023-06-24   \n",
       "\n",
       "                                           description       price  \\\n",
       "0    VENDO Casa en Argentina, ciudad de Salta, 49.0...  $us 49 000   \n",
       "1    DEPARTAMENTO en alquiler, cuenta: 1 suite, 2 d...               \n",
       "2    LOTES en venta, Sup. 310 m2, San Benito, carre...               \n",
       "3    EN VENTA Casa zona campo ferial llamar: 681034...               \n",
       "4    1.400 BS. departamento, 2 dormitorios, roperos...               \n",
       "..                                                 ...         ...   \n",
       "139  VENDO departamento a estrenar, Fidel Anze, 3 d...               \n",
       "140  VENTA DE TERRENO Sup. 905.56 m2 ubicación dist...               \n",
       "141  ALQUILO casa independiente, con todas las como...               \n",
       "142  ALQUILO departamento 3 dormitorios, calle Bapt...               \n",
       "143  ALQUILO habitación, amplia, 5x5, cocina, con g...               \n",
       "\n",
       "                                        keys  \\\n",
       "0       Cochabamba -  Venta -  Casa / Chalet   \n",
       "1     Cochabamba -  Alquiler -  Departamento   \n",
       "2      Cochabamba -  Venta -  Lote / Terreno   \n",
       "3       Cochabamba -  Venta -  Casa / Chalet   \n",
       "4     Cochabamba -  Alquiler -  Departamento   \n",
       "..                                       ...   \n",
       "139      Cochabamba -  Venta -  Departamento   \n",
       "140    Cochabamba -  Venta -  Lote / Terreno   \n",
       "141  Cochabamba -  Alquiler -  Casa / Chalet   \n",
       "142   Cochabamba -  Alquiler -  Departamento   \n",
       "143     Cochabamba -  Alquiler -  Habitación   \n",
       "\n",
       "                                                  path  \n",
       "0    /anuncio/inmuebles/vendo-casa-en-argentina/202...  \n",
       "1    /anuncio/inmuebles/departamento-en-alquiler-cu...  \n",
       "2        /anuncio/inmuebles/lotes-en-venta-sup/2022264  \n",
       "3        /anuncio/inmuebles/en-venta-casa-zona/2022252  \n",
       "4     /anuncio/inmuebles/1-400-bs-departamento/2022267  \n",
       "..                                                 ...  \n",
       "139  /anuncio/inmuebles/vendo-departamento-estrenar...  \n",
       "140    /anuncio/inmuebles/venta-de-terreno-sup/2021653  \n",
       "141  /anuncio/inmuebles/alquilo-casa-independiente-...  \n",
       "142  /anuncio/inmuebles/alquilo-departamento-3-dorm...  \n",
       "143  /anuncio/inmuebles/alquilo-habitacion-amplia-5...  \n",
       "\n",
       "[144 rows x 6 columns]"
      ]
     },
     "execution_count": 36,
     "metadata": {},
     "output_type": "execute_result"
    }
   ],
   "source": [
    "df = pd.DataFrame(posts)\n",
    "df"
   ]
  },
  {
   "cell_type": "code",
   "execution_count": 11,
   "id": "91e1ad87-71d9-4bef-b4c5-f58b8e777361",
   "metadata": {},
   "outputs": [],
   "source": [
    "# Save dataframe as .csv file \n",
    "df.to_csv(f'./csv/los_tiempos_clasificados_{datetime.now(timezone('US/Eastern')).isoformat()[:10]}.csv', sep=';')"
   ]
  },
  {
   "cell_type": "code",
   "execution_count": 39,
   "id": "6464aeb9-06b8-410c-b5e6-611fa613f1ff",
   "metadata": {},
   "outputs": [
    {
     "data": {
      "text/plain": [
       "'2023-07-27'"
      ]
     },
     "execution_count": 39,
     "metadata": {},
     "output_type": "execute_result"
    }
   ],
   "source": [
    "from pytz import timezone\n",
    "datetime.now(timezone('US/Eastern')).isoformat()[:10]"
   ]
  },
  {
   "cell_type": "code",
   "execution_count": 41,
   "id": "db1afa42-287f-4aa5-8152-ed0fb0f42b5a",
   "metadata": {},
   "outputs": [
    {
     "ename": "NameError",
     "evalue": "name 'client' is not defined",
     "output_type": "error",
     "traceback": [
      "\u001b[0;31m---------------------------------------------------------------------------\u001b[0m",
      "\u001b[0;31mNameError\u001b[0m                                 Traceback (most recent call last)",
      "Cell \u001b[0;32mIn [41], line 1\u001b[0m\n\u001b[0;32m----> 1\u001b[0m \u001b[43mclient\u001b[49m\u001b[38;5;241m.\u001b[39mput_object(\n\u001b[1;32m      2\u001b[0m     Bucket\u001b[38;5;241m=\u001b[39m\u001b[38;5;124m'\u001b[39m\u001b[38;5;124ms3-lostiempos-data\u001b[39m\u001b[38;5;124m'\u001b[39m, \n\u001b[1;32m      3\u001b[0m     Key\u001b[38;5;241m=\u001b[39m\u001b[38;5;124mf\u001b[39m\u001b[38;5;124m'\u001b[39m\u001b[38;5;124mjson/los_tiempos_clasificados_\u001b[39m\u001b[38;5;132;01m{\u001b[39;00mdatetime\u001b[38;5;241m.\u001b[39mnow(timezone(\u001b[38;5;124m\"\u001b[39m\u001b[38;5;124mUS/Eastern\u001b[39m\u001b[38;5;124m\"\u001b[39m))\u001b[38;5;241m.\u001b[39misoformat()[:\u001b[38;5;241m10\u001b[39m]\u001b[38;5;132;01m}\u001b[39;00m\u001b[38;5;124m.json\u001b[39m\u001b[38;5;124m'\u001b[39m,\n\u001b[1;32m      4\u001b[0m     Body\u001b[38;5;241m=\u001b[39mdata_string\n\u001b[1;32m      5\u001b[0m )\n",
      "\u001b[0;31mNameError\u001b[0m: name 'client' is not defined"
     ]
    }
   ],
   "source": [
    "    client.put_object(\n",
    "        Bucket='s3-lostiempos-data', \n",
    "        Key=f'json/los_tiempos_clasificados_{datetime.now(timezone(\"US/Eastern\")).isoformat()[:10]}.json',\n",
    "        Body=data_string\n",
    "    )"
   ]
  },
  {
   "cell_type": "code",
   "execution_count": null,
   "id": "7f241ce3-4e25-41d1-b68e-0324c8bb655e",
   "metadata": {},
   "outputs": [],
   "source": []
  }
 ],
 "metadata": {
  "kernelspec": {
   "display_name": "Python 3 (ipykernel)",
   "language": "python",
   "name": "python3"
  },
  "language_info": {
   "codemirror_mode": {
    "name": "ipython",
    "version": 3
   },
   "file_extension": ".py",
   "mimetype": "text/x-python",
   "name": "python",
   "nbconvert_exporter": "python",
   "pygments_lexer": "ipython3",
   "version": "3.8.15"
  }
 },
 "nbformat": 4,
 "nbformat_minor": 5
}
