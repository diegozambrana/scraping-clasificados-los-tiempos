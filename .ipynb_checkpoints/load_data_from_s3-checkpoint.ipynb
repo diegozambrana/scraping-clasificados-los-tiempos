{
 "cells": [
  {
   "cell_type": "markdown",
   "id": "52cbae19-46af-417f-acce-ed2183dc43c4",
   "metadata": {},
   "source": [
    "# Load Data from S3"
   ]
  },
  {
   "cell_type": "code",
   "execution_count": 74,
   "id": "fb8d2095-3149-4ead-9b3f-f114067f1b4b",
   "metadata": {},
   "outputs": [],
   "source": [
    "import boto3\n",
    "import json\n",
    "import pandas as pd\n",
    "import numpy as np\n",
    "import re\n",
    "\n",
    "BASE_URL = \"https://clasificados.lostiempos.com\"\n",
    "\n",
    "s3 = boto3.resource('s3')\n",
    "my_bucket = s3.Bucket('s3-lostiempos-data')"
   ]
  },
  {
   "cell_type": "code",
   "execution_count": 75,
   "id": "506640d2-1d0a-4a9c-96fc-9a9af00495c9",
   "metadata": {},
   "outputs": [],
   "source": [
    "def get_phones(s):\n",
    "    return re.findall(r\"([\\d]{8}|[\\d]{7})\", s)"
   ]
  },
  {
   "cell_type": "code",
   "execution_count": 138,
   "id": "2e0b3ab6-5aaa-427c-9fa0-ba6bbe000015",
   "metadata": {},
   "outputs": [],
   "source": [
    "def get_price(d):\n",
    "    if len(d['price']) == 0:\n",
    "        price = re.findall(r\"(\\b\\d{1,3}(?:\\.\\d{3})*(?:,\\d+)?\\sB[S|s]\\.)\", d['description'])\n",
    "        if len(price) > 0:\n",
    "            return price[0]\n",
    "        else:\n",
    "            price = re.findall(r\"B[s|S]?\\.\\s*\\d+\\.\\d+\", d['description'])\n",
    "            if len(price) > 0:\n",
    "                return price[0]\n",
    "        return ''\n",
    "    else:\n",
    "        return d['price']"
   ]
  },
  {
   "cell_type": "code",
   "execution_count": 159,
   "id": "934efc73-eeb0-4c94-b2f1-1e88c8fe32fa",
   "metadata": {},
   "outputs": [],
   "source": [
    "def get_m2(s):\n",
    "    m2 = re.findall(r\"(\\b\\d+(\\.\\d+)? m2\\b)\", s)\n",
    "    if len(m2) > 0:\n",
    "        return m2[0][0]\n",
    "    else:\n",
    "        m2 = re.findall(r\"(\\b\\d+(\\.\\d+)?m2\\b)\", s)\n",
    "        if len(m2) > 0:\n",
    "            return m2[0][0]\n",
    "    return ''"
   ]
  },
  {
   "cell_type": "markdown",
   "id": "918137fa-7916-4b75-9438-adef2a1cdf32",
   "metadata": {},
   "source": [
    "## Cargamos archivos JSON de S3\n",
    "\n",
    "se carga los archivos JSON desde S3 de manera iterativa"
   ]
  },
  {
   "cell_type": "code",
   "execution_count": 146,
   "id": "6e5b97d1-1d30-4b1d-9cdd-a0848ed3d999",
   "metadata": {},
   "outputs": [
    {
     "name": "stdout",
     "output_type": "stream",
     "text": [
      "loaded:  json/los_tiempos_clasificados_2023-07-28.json\n",
      "tamaño del dataframe: 67\n"
     ]
    }
   ],
   "source": [
    "df_result = None\n",
    "\n",
    "for object_summary in my_bucket.objects.filter(Prefix=\"json/\"):\n",
    "    key_path = object_summary.key\n",
    "    content_object = s3.Object('s3-lostiempos-data', key_path)\n",
    "    file_content = content_object.get()['Body'].read().decode('utf-8')\n",
    "    json_content = json.loads(file_content)\n",
    "    print('loaded: ', key_path)\n",
    "\n",
    "    df = pd.DataFrame(json_content)\n",
    "    if df_result is None:\n",
    "        df_result = df.copy()\n",
    "    else:\n",
    "        df_result = pd.concat([df_result, df], ignore_index=True)\n",
    "\n",
    "print( 'tamaño del dataframe:', df_result.shape[0])"
   ]
  },
  {
   "cell_type": "markdown",
   "id": "b622469d-5a60-4f33-b429-0392cf4e5b22",
   "metadata": {},
   "source": [
    "## Limpiamos el Dataframe\n",
    "\n",
    "* Eliminamos diplicados\n",
    "* eliminamos dato innecesarios"
   ]
  },
  {
   "cell_type": "code",
   "execution_count": 160,
   "id": "0e6593fa-080c-4c4e-b142-3d6c90b6df62",
   "metadata": {},
   "outputs": [
    {
     "name": "stdout",
     "output_type": "stream",
     "text": [
      "[]\n",
      "[('320 m2', '')]\n",
      "[('45 m2', '')]\n",
      "[('90 m2', '')]\n",
      "[]\n",
      "[]\n",
      "[]\n",
      "[('198 m2', '')]\n",
      "[]\n",
      "[]\n",
      "[]\n",
      "[]\n",
      "[]\n",
      "[]\n",
      "[]\n",
      "[('300 m2', '')]\n",
      "[]\n",
      "[]\n",
      "[]\n",
      "[]\n",
      "[]\n",
      "[]\n",
      "[]\n",
      "[('310 m2', '')]\n",
      "[]\n",
      "[]\n",
      "[]\n",
      "[]\n",
      "[('134 m2', '')]\n",
      "[]\n",
      "[]\n",
      "[]\n",
      "[('130 m2', '')]\n",
      "[('134 m2', '')]\n",
      "[]\n",
      "[]\n",
      "[]\n",
      "[]\n",
      "[]\n",
      "[]\n",
      "[]\n",
      "[('79 m2', '')]\n",
      "[]\n",
      "[]\n",
      "[]\n",
      "[]\n",
      "[]\n",
      "[]\n",
      "[('300 m2', '')]\n",
      "[]\n",
      "[]\n",
      "[]\n",
      "[]\n",
      "[]\n",
      "[('300 m2', '')]\n",
      "[]\n",
      "[]\n",
      "[('615.79 m2', '.79')]\n",
      "[]\n",
      "[('400 m2', '')]\n",
      "[]\n",
      "[]\n",
      "[]\n",
      "[]\n",
      "[]\n",
      "[]\n",
      "[]\n"
     ]
    }
   ],
   "source": [
    "df_result = df_result.drop_duplicates(subset=['path'], keep='last')\n",
    "\n",
    "df_result['link'] = BASE_URL + df_result['path']\n",
    "df_result['city'] = df_result['keys'].apply(lambda x: x.split('-')[0].strip())\n",
    "df_result['category'] = df_result['keys'].apply(lambda x: x.split('-')[1].strip())\n",
    "df_result['home_type'] = df_result['keys'].apply(lambda x: x.split('-')[2].strip())\n",
    "df_result['phones'] = df_result['description'].apply(get_phones)\n",
    "df_result['price'] = df_result.apply(get_price, axis=1)\n",
    "df_result['m2'] = df_result['description'].apply(get_m2)"
   ]
  },
  {
   "cell_type": "code",
   "execution_count": 161,
   "id": "9b0daca3-cc21-4d6c-9c80-2d8f84d7e740",
   "metadata": {},
   "outputs": [
    {
     "name": "stdout",
     "output_type": "stream",
     "text": [
      "<class 'pandas.core.frame.DataFrame'>\n",
      "Int64Index: 67 entries, 0 to 66\n",
      "Data columns (total 13 columns):\n",
      " #   Column       Non-Null Count  Dtype \n",
      "---  ------       --------------  ----- \n",
      " 0   title        67 non-null     object\n",
      " 1   date         67 non-null     object\n",
      " 2   description  67 non-null     object\n",
      " 3   price        67 non-null     object\n",
      " 4   keys         67 non-null     object\n",
      " 5   path         67 non-null     object\n",
      " 6   html         67 non-null     object\n",
      " 7   link         67 non-null     object\n",
      " 8   city         67 non-null     object\n",
      " 9   category     67 non-null     object\n",
      " 10  home_type    67 non-null     object\n",
      " 11  phones       67 non-null     object\n",
      " 12  m2           67 non-null     object\n",
      "dtypes: object(13)\n",
      "memory usage: 7.3+ KB\n"
     ]
    }
   ],
   "source": [
    "df_result.info()"
   ]
  },
  {
   "cell_type": "markdown",
   "id": "c27cddb6-5285-41ab-a4f3-ea57c4f03b36",
   "metadata": {},
   "source": [
    "#### TODO: realizar una función que obtenga el precio de la descricion"
   ]
  },
  {
   "cell_type": "code",
   "execution_count": 162,
   "id": "61d95ea9-fc5d-4edf-a361-430cda14f57d",
   "metadata": {},
   "outputs": [
    {
     "data": {
      "text/plain": [
       "0           \n",
       "1     320 m2\n",
       "2      45 m2\n",
       "3      90 m2\n",
       "4           \n",
       "       ...  \n",
       "62          \n",
       "63          \n",
       "64          \n",
       "65          \n",
       "66          \n",
       "Name: m2, Length: 67, dtype: object"
      ]
     },
     "execution_count": 162,
     "metadata": {},
     "output_type": "execute_result"
    }
   ],
   "source": [
    "df_result['m2']"
   ]
  },
  {
   "cell_type": "code",
   "execution_count": 127,
   "id": "34934f31-e0e7-476b-b4c6-bacf503683d3",
   "metadata": {},
   "outputs": [],
   "source": []
  },
  {
   "cell_type": "code",
   "execution_count": null,
   "id": "e54d466b-5957-45e0-bea7-763c1ddc9eb7",
   "metadata": {},
   "outputs": [],
   "source": []
  },
  {
   "cell_type": "code",
   "execution_count": 164,
   "id": "44378768-cc7d-4e2f-9a29-27d0ece79511",
   "metadata": {},
   "outputs": [
    {
     "name": "stdout",
     "output_type": "stream",
     "text": [
      "ALQUILO departamento, zona norte. Ref. 77412631.\n",
      "TERRENO amurallado, 320 m2, zona fabrica Copelme, 100 $us m2. Telf. 72004478.\n",
      "ALQUILER oficina, sobre Heroínas casi Antezana, ideal consultorio dental, segundo piso, 45 m2. Cel. 65711091.\n",
      "VENDO Departamento América casi Libertador, 3 dormitorios, 2 baños. 90 m2 sin garaje Ref. 70744006\n",
      "PROPIETARIO Alquila departamento cerca al IC Norte Hipódromo Watsap 70792429\n",
      "ALQUILO habitación para estudiante, a una cuadra de U. San Simón. Cel. 76404055.\n",
      "CASA en anticrético, zona Quintanilla, nueva, 3 pisos, dormitorios, roperos empotrados, baños, living, comedor, cocina, garaje, patio, jardín, urbanización Hermanos Bazoalto, $us 30.000. Ref. 64942185, 79798561.\n",
      "VENDO departamento, zona Pacata de 198 m2, 4 dormitorios, 1 escritorio, sala amplia, cocina, cajonería alta, baja y garaje, precio 130.000 dólares. Ref. 60752144, whatsapp.\n",
      "DEPARTAMENTOS Condominio Ubuntu. A 3 cuadras de la plaza de Cala – Cala, torre de 25 pisos de entrega inmediata. Supervisión de obra: Ing. Pablo Soto Quiroga. Cel. 71460400. Últimos departamentos.\n",
      "DEPARTAMENTOS condominio Oomoto, en Tiquipaya, próximo al colegio Tiquipaya, más de 1 hectárea de áreas comunes: 3 piscinas atemperadas, cabañas de churrasqueros, gimnasio y campos deportivos. Supervisión de obra: Ing. Pablo Soto Quiroga. Cel. 71460400.\n",
      "DEPARTAMENTOS condominio Villa Fratterna. Es como vivir en un hotel de ***** vive en comunidad. Supervisión de obra: Ing. Pablo Soto Quiroga. Cel. 71460400.\n",
      "HERMOSO departamento en venta de 2 dormitorios. edificio Patmos (plaza Cala Cala). Trato directo con el propietario. Cel. 77927700.\n",
      "LOTE En El Abra, con papeles aprobados y folio real, zona Av. Octava, 200mt2 a $us 110 x mt2. Celular/Whatsapp: 72277879\n",
      "VENTA una casa de 6 dormitorios, 1 cocina, 3 baños, 1 lavandería, 859 mts, zona Mallco Rancho, Municipio Sipe Sipe, por ocasión, 102.850,20 $us, contacto: 71478677.\n",
      "ALQUILO departamento confortable, buen precio, calle Bustos e Incachaca, zona Loreto, con garaje. Ref. 72285782.\n",
      "VENDO Casa en Argentina, ciudad de Salta, 49.000 dòlares, 300 m2. cuatro dormitorios, 72713695 whatsapp\n",
      "DUEñO alquila 2 departamentos, garaje, demás dependencias, Tadeo Haenke, Beijing. 67259596.\n",
      "ANTICRETICO Departamento 4 dormitorios, 2 baños, etc. Zona Cala Cala; Av. América Zona Bancos y Universidades Cel 72791039\n",
      "ALQUILER tienda, 8x5, en Oquendo, 671 sud. Ref. 4220854, 70355603.\n",
      "DEPARTAMENTO en alquiler, cuenta: 1 suite, 2 dormitorios, estudio, cocina, sala, dependencia para empleada, garaje, ubicado en la Av. Uyuni, Torre VIP. Ref. 70737535.\n",
      "BS 1.200  Casa independiente. Con patio amplio, garaje, 2 cuartos, cocina, baño. whatsapp 44291080\n",
      "OFICINA céntrica en alquiler. 70774733.\n",
      "EN VENTA Casa zona campo ferial llamar: 68103436, 71190552\n",
      "LOTES en venta, Sup. 310 m2, San Benito, carretera antigua, Santa Cruz, Km 39. 65363254.\n",
      "1.400 BS. departamento, 2 dormitorios, roperos empotrados, otros semiamoblado, Ladislao Cabrera 562, cerca Lanza. 70772020.\n",
      "EN VENTA Hermosa casa de 2 plantas con altillo urbanización privada Ecológica la Rinconada. Inmediaciones country Club Cochabamba, a media cuadra de la avenida circuito Bolivia, cerca complejo club Aurora. superficie 341 metros construidos, terreno 210m2, cuenta con 3 plantas sótano, patio trasero y patio delantero. Ref.: 76647468, 69244731\n",
      "VENDO lote amurallado, de 320 mts, en tanque de agua, Km 8, Sacaba, Huayllani. Ref. 70743860.\n",
      "1.500 BS. Casita sencilla alquiler independiente 1 dormitorio dependencias completas patio amplio garaje Zona Oeste Sirpita Balneario Manantial 77994624 Whatsapp\n",
      "PROPIETARIO 3 dormitorios, (uno suite), 134 m2, dependencias empleada, parqueo, piscina atemperada, parrilleros, quinto piso, edificio Onix, batallón Colorados 2363 casi Melchor Pérez de Holguín, Bs. 2.400, facturado, no incluye expensas (200 Bs), garantía 5.000 Bs. (anticrético 320.000 Bs.). Ref. Telf. 71723994.\n",
      "1.100 BS. Independiente garzonier alquiler con patio +garaje ideal pareja 1Dormitorio dependencias completas Benjo Cruz Condebamba 77994624 Whatsapp\n",
      "1.400 BS. Mercado 10 de Febrero alquiler departamento 2 dormitorios dependencias lavandería garaje entrega inmediata 77994624 Whatsapp\n",
      "SE OFRECE alquiler para lavadero, chapería, taller, esquina Juan Pablo II y Luis Espinal. Telf. 71433147.\n",
      "BONITO departamento, 130 m2, Av. Pando, cerca parque Fidel Anze, 3 dormitorios, dependencias, garaje, anticrético, $us 33.000, registrable, Derechos Reales. Ref. 72720474.\n",
      "PROPIETARIO 3 dormitorios (uno suite), 134 m2, dependencias empleada, parqueo, piscina atemperada, parrilleros, quinto piso, edificio Onix, Batallón Colorados, 2363 casi Melchor Perez de Holguín, 320.000 Bs. expensas (200 Bs), (alquiler 2.400 Bs, facturad). Ref. Telf. 71723994.\n",
      "ALQUILO departamento amoblado, 3 dormitorios (estudiantes), otro departamento, cuatro dormitorios, Hipermaxi, Juan Rosa. 77412987, 4246066.\n",
      "DEPARTAMENTOS Condominio Ubuntu. A 3 cuadras de la plaza de Cala – Cala, torre de 25 pisos de entrega inmediata. Supervisión de obra: Ing. Pablo Soto Quiroga. Cel. 71460400. Últimos departamentos.\n",
      "DEPARTAMENTO condominio Oomoto, en Tiquipaya, próximo al colegio Tiquipaya, más de 1 hectárea de áreas comunes: 3 piscinas atemperadas, cabañas de churrasqueros, gimnasio y campos deportivos. Supervisión de obra: Ing. Pablo Soto Quiroga. Cel. 71460400.\n",
      "VENDO departamento a estrenar, zona Anglo Americano, Queru Queru, 2 dormitorios y 2 patios privados, precio increíble. Telf. 76477733.\n",
      "ANTICRETICO Departamento 3 dormitorios, 2 baños, sala grande, cocina. Final Colombia, zona teleférico #240. Garaje. Cel. 71743364.\n",
      "DEPARTAMENTOS condominio Villa Fratterna. Es como vivir en un hotel de ***** vive en comunidad. Supervisión de obra: Ing. Pablo Soto Quiroga. Cel. 71460400.\n",
      "HERMOSO departamento en venta de 2 dormitorios. edificio Patmos (plaza Cala Cala). Trato directo con el propietario. Cel. 77927700.\n",
      "EN SANTA CRUZ Vendo departamento 2 dormitorios 79 m2 Barrio Ubari condominio Aruna acepto en forma de pago vehículo, Valor $90.000 dólares Ref. 76681555\n",
      "SANTA CRUZ Vendo departamento ubicado 7 anillo de la Banzer 88 mt2 condominio Berchatti con garaje precio $ 90.300 acepto vehículos en forma pago 76681555\n",
      "SANTA CRUZ Vendo departamento de 1 dormitorio con garaje ubicado 7 anillo de la Banzer con 39mt2 precio $ 44.700 acepto en forma de pago vehículos 76681555\n",
      "SANTA CRUZ Vendo departamento duplex con dos dormitorios garaje con 112mt2 ubicado canal Isuto condominio Smart Studio 1.0 precio 160.000 dólares acepto en forma de pago vehículos 76681555\n",
      "VENDO lote, 300 mts, en la urbanización Bella Vista. Cel. 67454776.\n",
      "CASA en alquiler. Cel. 67409755.\n",
      "CASA En venta a estrenar cuenta 1 suite, 2 dormitorios,2 baños, cocina americana, área de lavado, churrasquero, c/garaje amplio, c/servicios básicos ubicado zona Itocta prox. Colegio San Antonio llamar telf. 4504879, cel. 72769463, 68580216.\n",
      "HERMOSO Lote de terreno en venta, 300 m2, Colcapirhua- Zona Willcataco. todo al día. 65317690\n",
      "1.500 BS. Casita sencilla totalmente independiente 1 dormitorio dependencias completas patio amplio garaje Zona Oeste Balneario Manantial 77994624 Whatsapp\n",
      "DEPARTAMENTO América Oeste frente a plazuela para pareja o persona sola 1.100 bolivianos. Celular: 77407769\n",
      "DEPARTAMENTO En alquiler de un dormitorio, living, comedor, cocina c/cajonería alta y baja, baño de visitas, áreas comunes c/piscina, sauna, churrasquera, salón de fiestas y jaulas de secado. Ubicado en Av. Heroínas casi Pedro Blanco llamar cel. 72769463, 68580216\n",
      "1.100 BS. Benjo Cruz Condebamba independiente garzonier alquiler con patio +garaje ideal pareja 1Dormitorio dependencias completas 77994624 Whatsapp\n",
      "15.000 $US Solamente anticrético 2 dormitorios a estrenar templo mormones 79795225\n",
      "HUAYLLANI vendo 2 lotes, de 300 m2, una cuadra al norte de la Tranca de Peaje de Sacaba. Cel. 77487244.\n",
      "ALQUILER tienda, 8x5, en Av. Oquendo 671 sud. Ref. 422085, 70355603.(*)\n",
      "EN ALQUILER restaurant, zona sud. Cel. 67565654.\n",
      "CASA En venta superficie: 615.79 m2 Abstenerse inmobiliarias. Trato directo con el dueño. Contactos: 71459504, 72247407\n",
      "DOY CUARTOS en anticrético, calle Armando Mendez, zona Las Cuadras. Cel. 60391193, 60733652.\n",
      "EN VENTA terreno 400 m2 Sup. ubicado en playa Motaw - Santa Cruz, precio 13.300 $us, el precio es negociable, interesados, llamar al 76727539, 71557125.\n",
      "ALQUILO departamento, cocina, baño independiente, garzonier, cocina, baño, Av. ustariz, Km 8. Cel. 77957570, 72740939.\n",
      "DEPARTAMENTO anticrético, Nicaragua S-717. Telf. 4257662.\n",
      "DUEñA vende casa en esquina, zona Abra, todos los servicios, entre 2 Av. Ref. 68483114.\n",
      "ALQUILER Departamento 3 dormitorios y dependencias tras Aldeas SOS whatsapp 67405546\n",
      "1.300 BS. Mercado 10 de Febrero bonito departamento alquiler 2Dormitorios dependencias completas lavandería garaje entrega inmediata 77994624 Whatsapp\n",
      "ALQUILO Local comercial IC Norte Hipódromo 63991849\n",
      "HABITACION Grande 2 ambientes cerca puente cobija todo servicio WIFI cable baño cocina. WhatsApp: 71405294\n"
     ]
    }
   ],
   "source": [
    "for d in df_result['description']:\n",
    "    print(d)"
   ]
  },
  {
   "cell_type": "code",
   "execution_count": null,
   "id": "a7b80890-f249-4abf-890c-37c51a1a84bf",
   "metadata": {},
   "outputs": [],
   "source": []
  }
 ],
 "metadata": {
  "kernelspec": {
   "display_name": "Python 3 (ipykernel)",
   "language": "python",
   "name": "python3"
  },
  "language_info": {
   "codemirror_mode": {
    "name": "ipython",
    "version": 3
   },
   "file_extension": ".py",
   "mimetype": "text/x-python",
   "name": "python",
   "nbconvert_exporter": "python",
   "pygments_lexer": "ipython3",
   "version": "3.8.15"
  }
 },
 "nbformat": 4,
 "nbformat_minor": 5
}
