{
 "cells": [
  {
   "cell_type": "markdown",
   "id": "46a4b1b5-647b-4550-8270-373ff9e64695",
   "metadata": {},
   "source": [
    "# scraper Clasificados de los tiempos\n",
    "\n",
    "notebook para obtenere datos de la página de los clasificados de los tiempos \n",
    "\n",
    "LINK: https://clasificados.lostiempos.com/inmuebles "
   ]
  },
  {
   "cell_type": "code",
   "execution_count": 1,
   "id": "ca47b42c-da86-4688-acea-7981d2f64b00",
   "metadata": {},
   "outputs": [],
   "source": [
    "import pandas as pd\n",
    "import numpy as np\n",
    "import requests\n",
    "import json\n",
    "import re\n",
    "import math\n",
    "from datetime import datetime\n",
    "from pyquery import PyQuery as pq"
   ]
  },
  {
   "cell_type": "code",
   "execution_count": 2,
   "id": "7df46d2a-e4f6-46be-8a3f-da9d5129a808",
   "metadata": {},
   "outputs": [],
   "source": [
    "BASE_URL = \"https://clasificados.lostiempos.com\"\n",
    "URL = f\"{BASE_URL}/inmuebles?sort_by=created&sort_order=DESC&page=\"\n",
    "\n",
    "HEADERS = {'User-Agent': \"Mozilla/5.0 (Macintosh; Intel Mac OS X 10_11_5) \"\n",
    "                         \"AppleWebKit/537.36 (KHTML, like Gecko) Chrome/50\"\n",
    "                         \".0.2661.102 Safari/537.36\"}\n",
    "posts = []"
   ]
  },
  {
   "cell_type": "code",
   "execution_count": 3,
   "id": "715e87f7-f763-4927-a2e4-6d36ccc72821",
   "metadata": {},
   "outputs": [],
   "source": [
    "response = requests.get(f\"{URL}{0}\", headers=HEADERS)\n",
    "doc = pq(response.content)"
   ]
  },
  {
   "cell_type": "code",
   "execution_count": 4,
   "id": "69fa2a85-cb42-402b-a2d0-a69b0cc0d681",
   "metadata": {},
   "outputs": [],
   "source": [
    "def append_elements(doc, posts):\n",
    "    l = doc.find('.views-row')\n",
    "    for i, element in enumerate(l):\n",
    "        data = get_data(l.eq(i))\n",
    "        posts.append(data)"
   ]
  },
  {
   "cell_type": "code",
   "execution_count": 5,
   "id": "12f66d10-350c-490c-a468-af142d252068",
   "metadata": {},
   "outputs": [],
   "source": [
    "MONTHS_SPANISH = [\"Enero\", \"Febrero\", \"Marzo\", \"Abril\", \"Mayo\", \"Junio\", \"Julio\", \"Agosto\", \"Septiembre\", \"Octubre\", \"Noviembre\", \"Diciembre\"]\n",
    "\n",
    "# clean the text\n",
    "def clean_text(s):\n",
    "    return s.replace('\\n', '').strip()\n",
    "\n",
    "# get data from text like 'Publicado: 23 Marzo 2023'\n",
    "def get_date(s):\n",
    "    original_date = s.replace('Publicado: ', '')\n",
    "    dt = original_date.split(' ')\n",
    "    return f\"{dt[2]}-{str(MONTHS_SPANISH.index(dt[1])).zfill(2)}-{dt[0].zfill(2)}\"\n",
    "\n",
    "# Get celphone and phone number \n",
    "def get_phones(s):\n",
    "    return re.findall(r\"([\\d]{8}|[\\d]{7})\", s)\n",
    "\n",
    "def get_price(s):\n",
    "    # TODO: hacer el calculo de precios.\n",
    "    pass"
   ]
  },
  {
   "cell_type": "code",
   "execution_count": 7,
   "id": "9e537349-69ba-45ba-8fd1-ac2b3b40dc9d",
   "metadata": {},
   "outputs": [],
   "source": [
    "def get_data(element):\n",
    "    title = element.children('.title')[0].text_content()\n",
    "    date = element.children('.publish-date')[0].text_content()\n",
    "    description = element.children('.body')[0].text_content()\n",
    "    price = element.children('.ads-price')[0].text_content()\n",
    "    keys = element.children('.description')[0].text_content()\n",
    "    path = element.children('.buttons a')[0].attrib['href']\n",
    "\n",
    "    return {\n",
    "        'title': clean_text(title),\n",
    "        'date': get_date(clean_text(date)),\n",
    "        'description': clean_text(description),\n",
    "        'price': clean_text(price),\n",
    "        'keys': clean_text(keys),\n",
    "        'path': clean_text(path),\n",
    "    }\n",
    "\n",
    "# get_data(doc.find('.views-row').eq(0))"
   ]
  },
  {
   "cell_type": "code",
   "execution_count": 8,
   "id": "91963ca3-d30a-44d6-8d13-b4472491c8ed",
   "metadata": {},
   "outputs": [
    {
     "data": {
      "text/plain": [
       "'/anuncio/inmuebles/propietario-hermosa-casa-en/1981905'"
      ]
     },
     "execution_count": 8,
     "metadata": {},
     "output_type": "execute_result"
    }
   ],
   "source": [
    "doc.find('.views-row').eq(0).children('.buttons a')[0].attrib['href']"
   ]
  },
  {
   "cell_type": "code",
   "execution_count": 10,
   "id": "20c1f422-3bc2-4452-aad3-bd84d5c559f3",
   "metadata": {},
   "outputs": [
    {
     "name": "stdout",
     "output_type": "stream",
     "text": [
      "total: 860 - paginas: 43\n"
     ]
    }
   ],
   "source": [
    "number_elements = int(re.findall(r'\\d+', doc.find('.resume-search')[0].text_content())[0])\n",
    "NUMBER_OF_PAGES = math.ceil(number_elements / 20)\n",
    "print(\"total:\", number_elements, \"- paginas:\", NUMBER_OF_PAGES)\n",
    "\n",
    "append_elements(doc, posts)"
   ]
  },
  {
   "cell_type": "code",
   "execution_count": 11,
   "id": "0285a981-83de-4388-a338-56b3478665d6",
   "metadata": {},
   "outputs": [
    {
     "data": {
      "text/plain": [
       "'\\n  Propietario Hermosa Casa En'"
      ]
     },
     "execution_count": 11,
     "metadata": {},
     "output_type": "execute_result"
    }
   ],
   "source": [
    "# TEST if anything is wrong with errors\n",
    "# posts_test = []\n",
    "# append_elements(doc, posts_test)\n",
    "# posts_test\n",
    "# doc.find('.views-row').eq(0).children('.title')[0].text_content()"
   ]
  },
  {
   "cell_type": "code",
   "execution_count": 12,
   "id": "7fa1aea0-31c7-4630-8b5a-c4ac60227fe8",
   "metadata": {},
   "outputs": [
    {
     "name": "stdout",
     "output_type": "stream",
     "text": [
      "get data from: https://clasificados.lostiempos.com/inmuebles?sort_by=created&sort_order=DESC&page=1\n",
      "get data from: https://clasificados.lostiempos.com/inmuebles?sort_by=created&sort_order=DESC&page=2\n",
      "get data from: https://clasificados.lostiempos.com/inmuebles?sort_by=created&sort_order=DESC&page=3\n",
      "get data from: https://clasificados.lostiempos.com/inmuebles?sort_by=created&sort_order=DESC&page=4\n",
      "get data from: https://clasificados.lostiempos.com/inmuebles?sort_by=created&sort_order=DESC&page=5\n",
      "get data from: https://clasificados.lostiempos.com/inmuebles?sort_by=created&sort_order=DESC&page=6\n",
      "get data from: https://clasificados.lostiempos.com/inmuebles?sort_by=created&sort_order=DESC&page=7\n",
      "get data from: https://clasificados.lostiempos.com/inmuebles?sort_by=created&sort_order=DESC&page=8\n",
      "get data from: https://clasificados.lostiempos.com/inmuebles?sort_by=created&sort_order=DESC&page=9\n",
      "get data from: https://clasificados.lostiempos.com/inmuebles?sort_by=created&sort_order=DESC&page=10\n",
      "get data from: https://clasificados.lostiempos.com/inmuebles?sort_by=created&sort_order=DESC&page=11\n",
      "get data from: https://clasificados.lostiempos.com/inmuebles?sort_by=created&sort_order=DESC&page=12\n",
      "get data from: https://clasificados.lostiempos.com/inmuebles?sort_by=created&sort_order=DESC&page=13\n",
      "get data from: https://clasificados.lostiempos.com/inmuebles?sort_by=created&sort_order=DESC&page=14\n",
      "get data from: https://clasificados.lostiempos.com/inmuebles?sort_by=created&sort_order=DESC&page=15\n",
      "get data from: https://clasificados.lostiempos.com/inmuebles?sort_by=created&sort_order=DESC&page=16\n",
      "get data from: https://clasificados.lostiempos.com/inmuebles?sort_by=created&sort_order=DESC&page=17\n",
      "get data from: https://clasificados.lostiempos.com/inmuebles?sort_by=created&sort_order=DESC&page=18\n",
      "get data from: https://clasificados.lostiempos.com/inmuebles?sort_by=created&sort_order=DESC&page=19\n",
      "get data from: https://clasificados.lostiempos.com/inmuebles?sort_by=created&sort_order=DESC&page=20\n",
      "get data from: https://clasificados.lostiempos.com/inmuebles?sort_by=created&sort_order=DESC&page=21\n",
      "get data from: https://clasificados.lostiempos.com/inmuebles?sort_by=created&sort_order=DESC&page=22\n",
      "get data from: https://clasificados.lostiempos.com/inmuebles?sort_by=created&sort_order=DESC&page=23\n",
      "get data from: https://clasificados.lostiempos.com/inmuebles?sort_by=created&sort_order=DESC&page=24\n",
      "get data from: https://clasificados.lostiempos.com/inmuebles?sort_by=created&sort_order=DESC&page=25\n",
      "get data from: https://clasificados.lostiempos.com/inmuebles?sort_by=created&sort_order=DESC&page=26\n",
      "get data from: https://clasificados.lostiempos.com/inmuebles?sort_by=created&sort_order=DESC&page=27\n",
      "get data from: https://clasificados.lostiempos.com/inmuebles?sort_by=created&sort_order=DESC&page=28\n",
      "get data from: https://clasificados.lostiempos.com/inmuebles?sort_by=created&sort_order=DESC&page=29\n",
      "get data from: https://clasificados.lostiempos.com/inmuebles?sort_by=created&sort_order=DESC&page=30\n",
      "get data from: https://clasificados.lostiempos.com/inmuebles?sort_by=created&sort_order=DESC&page=31\n",
      "get data from: https://clasificados.lostiempos.com/inmuebles?sort_by=created&sort_order=DESC&page=32\n",
      "get data from: https://clasificados.lostiempos.com/inmuebles?sort_by=created&sort_order=DESC&page=33\n",
      "get data from: https://clasificados.lostiempos.com/inmuebles?sort_by=created&sort_order=DESC&page=34\n",
      "get data from: https://clasificados.lostiempos.com/inmuebles?sort_by=created&sort_order=DESC&page=35\n",
      "get data from: https://clasificados.lostiempos.com/inmuebles?sort_by=created&sort_order=DESC&page=36\n",
      "get data from: https://clasificados.lostiempos.com/inmuebles?sort_by=created&sort_order=DESC&page=37\n",
      "get data from: https://clasificados.lostiempos.com/inmuebles?sort_by=created&sort_order=DESC&page=38\n",
      "get data from: https://clasificados.lostiempos.com/inmuebles?sort_by=created&sort_order=DESC&page=39\n",
      "get data from: https://clasificados.lostiempos.com/inmuebles?sort_by=created&sort_order=DESC&page=40\n",
      "get data from: https://clasificados.lostiempos.com/inmuebles?sort_by=created&sort_order=DESC&page=41\n",
      "get data from: https://clasificados.lostiempos.com/inmuebles?sort_by=created&sort_order=DESC&page=42\n",
      "total de publicaciones: 860\n"
     ]
    }
   ],
   "source": [
    "for n in range(1, NUMBER_OF_PAGES):\n",
    "    print(\"get data from:\", f\"{URL}{n}\")\n",
    "    response = requests.get(f\"{URL}{n}\", headers=HEADERS)\n",
    "    doc = pq(response.content)\n",
    "    append_elements(doc, posts)\n",
    "\n",
    "print(\"total de publicaciones:\", len(posts))"
   ]
  },
  {
   "cell_type": "code",
   "execution_count": 13,
   "id": "39eae503-c4de-40ec-b901-480e380fb009",
   "metadata": {},
   "outputs": [
    {
     "data": {
      "text/html": [
       "<div>\n",
       "<style scoped>\n",
       "    .dataframe tbody tr th:only-of-type {\n",
       "        vertical-align: middle;\n",
       "    }\n",
       "\n",
       "    .dataframe tbody tr th {\n",
       "        vertical-align: top;\n",
       "    }\n",
       "\n",
       "    .dataframe thead th {\n",
       "        text-align: right;\n",
       "    }\n",
       "</style>\n",
       "<table border=\"1\" class=\"dataframe\">\n",
       "  <thead>\n",
       "    <tr style=\"text-align: right;\">\n",
       "      <th></th>\n",
       "      <th>title</th>\n",
       "      <th>date</th>\n",
       "      <th>description</th>\n",
       "      <th>price</th>\n",
       "      <th>keys</th>\n",
       "      <th>path</th>\n",
       "    </tr>\n",
       "  </thead>\n",
       "  <tbody>\n",
       "    <tr>\n",
       "      <th>0</th>\n",
       "      <td>Propietario Hermosa Casa En</td>\n",
       "      <td>2023-02-26</td>\n",
       "      <td>PROPIETARIO hermosa casa en venta, Km 11 1/2, ...</td>\n",
       "      <td>$us 130 000</td>\n",
       "      <td>Cochabamba -  Venta -  Casa / Chalet</td>\n",
       "      <td>/anuncio/inmuebles/propietario-hermosa-casa-en...</td>\n",
       "    </tr>\n",
       "    <tr>\n",
       "      <th>1</th>\n",
       "      <td>Casa En Venta Zona</td>\n",
       "      <td>2023-02-26</td>\n",
       "      <td>CASA en venta, zona Amancayas, Ref. 70722957.</td>\n",
       "      <td></td>\n",
       "      <td>Cochabamba -  Venta -  Casa / Chalet</td>\n",
       "      <td>/anuncio/inmuebles/casa-en-venta-zona/1981906</td>\n",
       "    </tr>\n",
       "    <tr>\n",
       "      <th>2</th>\n",
       "      <td>Vendo Casa De 610</td>\n",
       "      <td>2023-02-26</td>\n",
       "      <td>VENDO casa de 610 m2, calle Santivañez, $us 45...</td>\n",
       "      <td></td>\n",
       "      <td>Cochabamba -  Venta -  Casa / Chalet</td>\n",
       "      <td>/anuncio/inmuebles/vendo-casa-de-610/1981907</td>\n",
       "    </tr>\n",
       "    <tr>\n",
       "      <th>3</th>\n",
       "      <td>Cala Cala Propiedad Con</td>\n",
       "      <td>2023-02-26</td>\n",
       "      <td>CALA CALA propiedad con 2 construcciones, idea...</td>\n",
       "      <td></td>\n",
       "      <td>Cochabamba -  Venta -  Casa / Chalet</td>\n",
       "      <td>/anuncio/inmuebles/cala-cala-propiedad-con/198...</td>\n",
       "    </tr>\n",
       "    <tr>\n",
       "      <th>4</th>\n",
       "      <td>Casa Ambientes Amplios 2</td>\n",
       "      <td>2023-02-26</td>\n",
       "      <td>CASA Ambientes amplios, 2 pisos, 275 m2, con g...</td>\n",
       "      <td>$us 220 000</td>\n",
       "      <td>Cochabamba -  Venta -  Casa / Chalet</td>\n",
       "      <td>/anuncio/inmuebles/casa-ambientes-amplios-2/19...</td>\n",
       "    </tr>\n",
       "    <tr>\n",
       "      <th>...</th>\n",
       "      <td>...</td>\n",
       "      <td>...</td>\n",
       "      <td>...</td>\n",
       "      <td>...</td>\n",
       "      <td>...</td>\n",
       "      <td>...</td>\n",
       "    </tr>\n",
       "    <tr>\n",
       "      <th>855</th>\n",
       "      <td>De Ocasion Anticrético O</td>\n",
       "      <td>2023-02-23</td>\n",
       "      <td>DE OCASION anticrético o venta departamento de...</td>\n",
       "      <td></td>\n",
       "      <td>Cochabamba -  Anticrético -  Departamento</td>\n",
       "      <td>/anuncio/inmuebles/de-ocasion-anticretico-o/19...</td>\n",
       "    </tr>\n",
       "    <tr>\n",
       "      <th>856</th>\n",
       "      <td>1 100 Bs Cruce</td>\n",
       "      <td>2023-02-23</td>\n",
       "      <td>1.100 BS. Cruce Taquiña garzonier alquiler pla...</td>\n",
       "      <td></td>\n",
       "      <td>Cochabamba -  Alquiler -  Departamento</td>\n",
       "      <td>/anuncio/inmuebles/1-100-bs-cruce/1981318</td>\n",
       "    </tr>\n",
       "    <tr>\n",
       "      <th>857</th>\n",
       "      <td>1 500 Bs Cruce</td>\n",
       "      <td>2023-02-23</td>\n",
       "      <td>1.500 BS. Cruce Taquiña departamento alquiler ...</td>\n",
       "      <td></td>\n",
       "      <td>Cochabamba -  Alquiler -  Departamento</td>\n",
       "      <td>/anuncio/inmuebles/1-500-bs-cruce/1981319</td>\n",
       "    </tr>\n",
       "    <tr>\n",
       "      <th>858</th>\n",
       "      <td>Departamento 210 $us 2</td>\n",
       "      <td>2023-02-23</td>\n",
       "      <td>DEPARTAMENTO 210 $us, 2 dormitorios, living, c...</td>\n",
       "      <td></td>\n",
       "      <td>Cochabamba -  Alquiler -  Departamento</td>\n",
       "      <td>/anuncio/inmuebles/departamento-210-us-2/1981320</td>\n",
       "    </tr>\n",
       "    <tr>\n",
       "      <th>859</th>\n",
       "      <td>25 000 $us Estrenar</td>\n",
       "      <td>2023-02-23</td>\n",
       "      <td>25.000 $US. Estrenar departamento anticrético ...</td>\n",
       "      <td></td>\n",
       "      <td>Cochabamba -  Anticrético -  Departamento</td>\n",
       "      <td>/anuncio/inmuebles/25-000-us-estrenar/1981333</td>\n",
       "    </tr>\n",
       "  </tbody>\n",
       "</table>\n",
       "<p>860 rows × 6 columns</p>\n",
       "</div>"
      ],
      "text/plain": [
       "                           title        date  \\\n",
       "0    Propietario Hermosa Casa En  2023-02-26   \n",
       "1             Casa En Venta Zona  2023-02-26   \n",
       "2              Vendo Casa De 610  2023-02-26   \n",
       "3        Cala Cala Propiedad Con  2023-02-26   \n",
       "4       Casa Ambientes Amplios 2  2023-02-26   \n",
       "..                           ...         ...   \n",
       "855     De Ocasion Anticrético O  2023-02-23   \n",
       "856               1 100 Bs Cruce  2023-02-23   \n",
       "857               1 500 Bs Cruce  2023-02-23   \n",
       "858       Departamento 210 $us 2  2023-02-23   \n",
       "859          25 000 $us Estrenar  2023-02-23   \n",
       "\n",
       "                                           description        price  \\\n",
       "0    PROPIETARIO hermosa casa en venta, Km 11 1/2, ...  $us 130 000   \n",
       "1        CASA en venta, zona Amancayas, Ref. 70722957.                \n",
       "2    VENDO casa de 610 m2, calle Santivañez, $us 45...                \n",
       "3    CALA CALA propiedad con 2 construcciones, idea...                \n",
       "4    CASA Ambientes amplios, 2 pisos, 275 m2, con g...  $us 220 000   \n",
       "..                                                 ...          ...   \n",
       "855  DE OCASION anticrético o venta departamento de...                \n",
       "856  1.100 BS. Cruce Taquiña garzonier alquiler pla...                \n",
       "857  1.500 BS. Cruce Taquiña departamento alquiler ...                \n",
       "858  DEPARTAMENTO 210 $us, 2 dormitorios, living, c...                \n",
       "859  25.000 $US. Estrenar departamento anticrético ...                \n",
       "\n",
       "                                          keys  \\\n",
       "0         Cochabamba -  Venta -  Casa / Chalet   \n",
       "1         Cochabamba -  Venta -  Casa / Chalet   \n",
       "2         Cochabamba -  Venta -  Casa / Chalet   \n",
       "3         Cochabamba -  Venta -  Casa / Chalet   \n",
       "4         Cochabamba -  Venta -  Casa / Chalet   \n",
       "..                                         ...   \n",
       "855  Cochabamba -  Anticrético -  Departamento   \n",
       "856     Cochabamba -  Alquiler -  Departamento   \n",
       "857     Cochabamba -  Alquiler -  Departamento   \n",
       "858     Cochabamba -  Alquiler -  Departamento   \n",
       "859  Cochabamba -  Anticrético -  Departamento   \n",
       "\n",
       "                                                  path  \n",
       "0    /anuncio/inmuebles/propietario-hermosa-casa-en...  \n",
       "1        /anuncio/inmuebles/casa-en-venta-zona/1981906  \n",
       "2         /anuncio/inmuebles/vendo-casa-de-610/1981907  \n",
       "3    /anuncio/inmuebles/cala-cala-propiedad-con/198...  \n",
       "4    /anuncio/inmuebles/casa-ambientes-amplios-2/19...  \n",
       "..                                                 ...  \n",
       "855  /anuncio/inmuebles/de-ocasion-anticretico-o/19...  \n",
       "856          /anuncio/inmuebles/1-100-bs-cruce/1981318  \n",
       "857          /anuncio/inmuebles/1-500-bs-cruce/1981319  \n",
       "858   /anuncio/inmuebles/departamento-210-us-2/1981320  \n",
       "859      /anuncio/inmuebles/25-000-us-estrenar/1981333  \n",
       "\n",
       "[860 rows x 6 columns]"
      ]
     },
     "execution_count": 13,
     "metadata": {},
     "output_type": "execute_result"
    }
   ],
   "source": [
    "df = pd.DataFrame(posts)\n",
    "df"
   ]
  },
  {
   "cell_type": "code",
   "execution_count": 14,
   "id": "91e1ad87-71d9-4bef-b4c5-f58b8e777361",
   "metadata": {},
   "outputs": [],
   "source": [
    "# Save dataframe as .csv file \n",
    "df.to_csv(f'./csv/los_tiempos_clasificados_{datetime.now().isoformat()[:10]}.csv', sep=';')"
   ]
  },
  {
   "cell_type": "code",
   "execution_count": null,
   "id": "ec789aaa-c5c8-4c6e-8c6a-4c75d7b3e823",
   "metadata": {},
   "outputs": [],
   "source": []
  }
 ],
 "metadata": {
  "kernelspec": {
   "display_name": "Python 3 (ipykernel)",
   "language": "python",
   "name": "python3"
  },
  "language_info": {
   "codemirror_mode": {
    "name": "ipython",
    "version": 3
   },
   "file_extension": ".py",
   "mimetype": "text/x-python",
   "name": "python",
   "nbconvert_exporter": "python",
   "pygments_lexer": "ipython3",
   "version": "3.8.15"
  }
 },
 "nbformat": 4,
 "nbformat_minor": 5
}
